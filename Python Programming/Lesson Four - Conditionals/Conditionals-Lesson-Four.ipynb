{
 "cells": [
  {
   "cell_type": "markdown",
   "id": "d259bfca-ef70-432a-947e-e0cf4d441efa",
   "metadata": {},
   "source": [
    "# Review Questions # 1\n",
    "___"
   ]
  },
  {
   "cell_type": "code",
   "execution_count": 3,
   "id": "02393d9c-0d2f-4ae4-b356-57e0e5ab1d46",
   "metadata": {},
   "outputs": [
    {
     "name": "stdout",
     "output_type": "stream",
     "text": [
      "True\n",
      "False\n",
      "True\n",
      "True\n",
      "True\n",
      "False\n"
     ]
    }
   ],
   "source": [
    "a = 1 <= 1\n",
    "b = 1 != 1\n",
    "c = 1 != 2\n",
    "d = \"good\" != \"bad\"\n",
    "e = \"good\" != \"Good\"\n",
    "f = 123 == \"123\"\n",
    "print(a)\n",
    "print(b)\n",
    "print(c)\n",
    "print(d)\n",
    "print(e)\n",
    "print(f)"
   ]
  },
  {
   "cell_type": "code",
   "execution_count": 2,
   "id": "f608a12d-1ab9-4b2f-8574-b20785e25212",
   "metadata": {},
   "outputs": [
    {
     "name": "stdout",
     "output_type": "stream",
     "text": [
      "True\n",
      "True\n",
      "True\n",
      "True\n"
     ]
    }
   ],
   "source": [
    "a = 3 < 4\n",
    "b = 10 > 1\n",
    "c = \"jack\" != \"jill\"\n",
    "d = 42  != \"42\"\n",
    "print(a)\n",
    "print(b)\n",
    "print(c)\n",
    "print(d)"
   ]
  },
  {
   "cell_type": "markdown",
   "id": "4d153969-29cb-4d97-86bb-d7751a4f53f7",
   "metadata": {},
   "source": [
    "# Review Question # 2\n",
    "___"
   ]
  },
  {
   "cell_type": "code",
   "execution_count": 4,
   "id": "ed633efe-0b6d-4231-87c3-f28a8ea7847e",
   "metadata": {},
   "outputs": [
    {
     "name": "stdout",
     "output_type": "stream",
     "text": [
      "False\n",
      "False\n",
      "True\n",
      "False\n"
     ]
    }
   ],
   "source": [
    "a = (1 <= 1) and (1 != 1)\n",
    "b = not (1 != 2)\n",
    "c = (\"good\" != \"bad\") or False\n",
    "d = (\"good\" != \"Good\") and not (1 == 1)\n",
    "print(a)\n",
    "print(b)\n",
    "print(c)\n",
    "print(d)"
   ]
  },
  {
   "cell_type": "code",
   "execution_count": 8,
   "id": "c1c5ed5f-270a-4e2c-984f-4363438ceb1e",
   "metadata": {},
   "outputs": [
    {
     "name": "stdout",
     "output_type": "stream",
     "text": [
      "True\n",
      "True\n",
      "True\n"
     ]
    }
   ],
   "source": [
    "a = False == (not True)\n",
    "b = (True and False) == (True and False)\n",
    "c = not (True and (\"A\" == \"B\"))\n",
    "print(a)\n",
    "print(b)\n",
    "print(c)"
   ]
  },
  {
   "cell_type": "markdown",
   "id": "03390f64-3f8d-438b-9201-887ab64b9dc8",
   "metadata": {},
   "source": [
    "# Review Question # 3\n",
    "___"
   ]
  },
  {
   "cell_type": "code",
   "execution_count": 15,
   "id": "3a63177d-6ce7-4a0d-ab1c-c8419d94545f",
   "metadata": {},
   "outputs": [
    {
     "name": "stdout",
     "output_type": "stream",
     "text": [
      "Enter a word: Python is the Future\n"
     ]
    },
    {
     "name": "stdout",
     "output_type": "stream",
     "text": [
      "The word \"Python is the Future\" has greater than 5 characters!\n"
     ]
    }
   ],
   "source": [
    "str_inp = input(\"Enter a word:\")\n",
    "if len(str_inp) < 5:\n",
    "    print(f'The word \"{str_inp}\" has less than 5 characters!')\n",
    "elif len(str_inp) > 5:\n",
    "    print(f'The word \"{str_inp}\" has greater than 5 characters!')\n",
    "else:\n",
    "    print(f'The word \"{str_inp}\" has 5 characters!')\n"
   ]
  },
  {
   "cell_type": "markdown",
   "id": "046f744c-56b4-4a63-b64e-034f55100522",
   "metadata": {},
   "source": [
    "# Review Question # 4\n",
    "___"
   ]
  },
  {
   "cell_type": "code",
   "execution_count": 7,
   "id": "f4d27592-985f-4488-9826-11b3c9eb94cc",
   "metadata": {},
   "outputs": [
    {
     "name": "stdout",
     "output_type": "stream",
     "text": [
      "Enter a word/character: Python!\n",
      "Enter a word/character: p\n",
      "Enter a word/character: y\n",
      "Enter a word/character: t\n",
      "Enter a word/character: h\n",
      "Enter a word/character: o\n",
      "Enter a word/character: n\n",
      "Enter a word/character: !\n",
      "Enter a word/character: Queen\n"
     ]
    },
    {
     "name": "stdout",
     "output_type": "stream",
     "text": [
      "You have successfully exited the loop!\n"
     ]
    }
   ],
   "source": [
    "flag = False\n",
    "while not flag:\n",
    "    user_inp = input(\"Enter a word/character:\")\n",
    "    for char in user_inp:\n",
    "        if char == 'q' or char == 'Q':\n",
    "            flag = True\n",
    "\n",
    "print(\"You have successfully exited the loop!\")"
   ]
  },
  {
   "cell_type": "code",
   "execution_count": 21,
   "id": "5c9af1c7-3d99-4cb8-8312-f1201b28a9a1",
   "metadata": {},
   "outputs": [
    {
     "name": "stdout",
     "output_type": "stream",
     "text": [
      "1\n",
      "2\n",
      "4\n",
      "5\n",
      "7\n",
      "8\n",
      "10\n",
      "11\n",
      "13\n",
      "14\n",
      "16\n",
      "17\n",
      "19\n",
      "20\n",
      "22\n",
      "23\n",
      "25\n",
      "26\n",
      "28\n",
      "29\n",
      "31\n",
      "32\n",
      "34\n",
      "35\n",
      "37\n",
      "38\n",
      "40\n",
      "41\n",
      "43\n",
      "44\n",
      "46\n",
      "47\n",
      "49\n"
     ]
    }
   ],
   "source": [
    "for num in range(1, 50):\n",
    "    if not (num % 3 == 0):\n",
    "        print(num)\n",
    "    "
   ]
  },
  {
   "cell_type": "markdown",
   "id": "49129635-daeb-4225-b15a-5396f5f28485",
   "metadata": {},
   "source": [
    "# Review Question No 5\n",
    "___"
   ]
  },
  {
   "cell_type": "code",
   "execution_count": 10,
   "id": "795c8a84-9273-4e68-b4ff-b56c2066ed23",
   "metadata": {},
   "outputs": [
    {
     "name": "stdout",
     "output_type": "stream",
     "text": [
      "Enter an integer: Python\n"
     ]
    },
    {
     "name": "stdout",
     "output_type": "stream",
     "text": [
      "Not an integer, Try Again!\n"
     ]
    },
    {
     "name": "stdout",
     "output_type": "stream",
     "text": [
      "Enter an integer: p\n"
     ]
    },
    {
     "name": "stdout",
     "output_type": "stream",
     "text": [
      "Not an integer, Try Again!\n"
     ]
    },
    {
     "name": "stdout",
     "output_type": "stream",
     "text": [
      "Enter an integer: y\n"
     ]
    },
    {
     "name": "stdout",
     "output_type": "stream",
     "text": [
      "Not an integer, Try Again!\n"
     ]
    },
    {
     "name": "stdout",
     "output_type": "stream",
     "text": [
      "Enter an integer: t\n"
     ]
    },
    {
     "name": "stdout",
     "output_type": "stream",
     "text": [
      "Not an integer, Try Again!\n"
     ]
    },
    {
     "name": "stdout",
     "output_type": "stream",
     "text": [
      "Enter an integer: h\n"
     ]
    },
    {
     "name": "stdout",
     "output_type": "stream",
     "text": [
      "Not an integer, Try Again!\n"
     ]
    },
    {
     "name": "stdout",
     "output_type": "stream",
     "text": [
      "Enter an integer: o\n"
     ]
    },
    {
     "name": "stdout",
     "output_type": "stream",
     "text": [
      "Not an integer, Try Again!\n"
     ]
    },
    {
     "name": "stdout",
     "output_type": "stream",
     "text": [
      "Enter an integer: n\n"
     ]
    },
    {
     "name": "stdout",
     "output_type": "stream",
     "text": [
      "Not an integer, Try Again!\n"
     ]
    },
    {
     "name": "stdout",
     "output_type": "stream",
     "text": [
      "Enter an integer: 90\n"
     ]
    },
    {
     "name": "stdout",
     "output_type": "stream",
     "text": [
      "You inputted: \"90\"!\n"
     ]
    }
   ],
   "source": [
    "while True:\n",
    "    try:\n",
    "        user_inp = int(input(\"Enter an integer:\"))\n",
    "        print(f'You inputted: \"{user_inp}\"!')\n",
    "        break;\n",
    "    except ValueError:\n",
    "        print(\"Not an integer, Try Again!\")\n",
    "        continue;"
   ]
  },
  {
   "cell_type": "code",
   "execution_count": 66,
   "id": "59ae7e0c-6056-4796-ac83-cb4676779852",
   "metadata": {},
   "outputs": [
    {
     "name": "stdout",
     "output_type": "stream",
     "text": [
      "Enter a string: Cedric\n",
      "Enter an integer: 10\n"
     ]
    },
    {
     "name": "stdout",
     "output_type": "stream",
     "text": [
      "Number is out of bounds!\n"
     ]
    },
    {
     "name": "stdout",
     "output_type": "stream",
     "text": [
      "Enter an integer: 1\n"
     ]
    },
    {
     "name": "stdout",
     "output_type": "stream",
     "text": [
      "The character at index 1 is \"e\"!\n"
     ]
    }
   ],
   "source": [
    "user_in = input(\"Enter a string:\")\n",
    "while True:\n",
    "    try:\n",
    "        n = int(input(\"Enter an integer:\"))\n",
    "        if n > len(user_in) or n <= 0:\n",
    "            print(\"Number is out of bounds!\")\n",
    "            continue\n",
    "        break;\n",
    "    except ValueError:\n",
    "        print(\"Not an Integer, Try Again!\")\n",
    "        continue;\n",
    "\n",
    "print(f'The character at index {n} is \"{user_in[n]}\"!')"
   ]
  },
  {
   "cell_type": "markdown",
   "id": "94740c5a-1af8-452b-99aa-8b0d265db21b",
   "metadata": {},
   "source": [
    "# Review Questions # 6\n",
    "___"
   ]
  },
  {
   "cell_type": "code",
   "execution_count": 39,
   "id": "a0424a34-5933-4034-ad6f-286141327385",
   "metadata": {},
   "outputs": [
    {
     "name": "stdout",
     "output_type": "stream",
     "text": [
      "Your die rolled at number 4!\n"
     ]
    }
   ],
   "source": [
    "import random\n",
    "\n",
    "def roll():\n",
    "    return random.randint(1,6)\n",
    "print(f\"Your die rolled at number {roll()}!\")"
   ]
  },
  {
   "cell_type": "code",
   "execution_count": 61,
   "id": "4729ab0f-e4bd-43ac-aa01-77b9fad8e684",
   "metadata": {},
   "outputs": [
    {
     "name": "stdout",
     "output_type": "stream",
     "text": [
      "The average number rolled is 3.50\n"
     ]
    }
   ],
   "source": [
    "import random\n",
    "# fair die is 1/6\n",
    "def die_roll():\n",
    "    return random.randint(1,6)\n",
    "total_tally = 0\n",
    "for roll in range(10_000):\n",
    "    total_tally += die_roll()\n",
    "\n",
    "ave = total_tally / 10_000\n",
    "print(f'The average number rolled is {ave:.2f}') "
   ]
  },
  {
   "cell_type": "markdown",
   "id": "495dc679-5d14-4aa4-8fa6-cd39bed9ccba",
   "metadata": {},
   "source": [
    "# Challenge: Simulate an Election\n",
    "___"
   ]
  },
  {
   "cell_type": "code",
   "execution_count": 3,
   "id": "407de560-5f94-45b9-a196-6282f114076a",
   "metadata": {},
   "outputs": [
    {
     "name": "stdout",
     "output_type": "stream",
     "text": [
      "Candidate A's probability of winning the election is 0.6327 or 63.27%\n"
     ]
    }
   ],
   "source": [
    "import random\n",
    "reg_one, reg_two, reg_three, num_of_simul, wins = 0.87, 0.65, 0.17, 10_000, 0\n",
    "def win_prob(prob_of_winning):\n",
    "    return random.random() < prob_of_winning\n",
    "for i in range(num_of_simul):\n",
    "    reg_one_win, reg_two_win, reg_three_win = win_prob(reg_one), win_prob(reg_two), win_prob(reg_three)\n",
    "    total_win_prob = reg_one_win + reg_two_win + reg_three_win\n",
    "    if total_win_prob >=2:\n",
    "        wins += 1\n",
    "candA_prob_of_winning = wins / num_of_simul\n",
    "print(f\"Candidate A's probability of winning the election is {candA_prob_of_winning:.4f} or {candA_prob_of_winning:.2%}\")"
   ]
  },
  {
   "cell_type": "code",
   "execution_count": null,
   "id": "61edf7ba-457b-45b0-b63b-73e94bb8994f",
   "metadata": {},
   "outputs": [],
   "source": []
  }
 ],
 "metadata": {
  "kernelspec": {
   "display_name": "Python [conda env:base] *",
   "language": "python",
   "name": "conda-base-py"
  },
  "language_info": {
   "codemirror_mode": {
    "name": "ipython",
    "version": 3
   },
   "file_extension": ".py",
   "mimetype": "text/x-python",
   "name": "python",
   "nbconvert_exporter": "python",
   "pygments_lexer": "ipython3",
   "version": "3.13.5"
  }
 },
 "nbformat": 4,
 "nbformat_minor": 5
}
