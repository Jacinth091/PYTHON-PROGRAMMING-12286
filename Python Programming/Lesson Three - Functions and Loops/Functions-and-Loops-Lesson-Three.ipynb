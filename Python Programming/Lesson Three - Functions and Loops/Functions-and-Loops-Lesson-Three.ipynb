{
 "cells": [
  {
   "cell_type": "markdown",
   "id": "b152331c-333a-40f5-906f-c47dddf3fef4",
   "metadata": {},
   "source": [
    "# Review Question No. 1\n",
    "___"
   ]
  },
  {
   "cell_type": "code",
   "execution_count": 64,
   "id": "c54901d1-9b6a-4dc8-8bef-346bb4388ca8",
   "metadata": {},
   "outputs": [
    {
     "name": "stdout",
     "output_type": "stream",
     "text": [
      "Result 1: 27\n",
      "Result 2: 216\n",
      "Result 3: 729\n"
     ]
    }
   ],
   "source": [
    "def cube(num):\n",
    "    return num**3\n",
    "\n",
    "print(\"Result 1:\", cube(3))\n",
    "print(\"Result 2:\", cube(6))\n",
    "print(\"Result 3:\", cube(9))"
   ]
  },
  {
   "cell_type": "code",
   "execution_count": 66,
   "id": "fcefa33a-f9c3-4d66-ad3e-24762505fccb",
   "metadata": {},
   "outputs": [
    {
     "name": "stdout",
     "output_type": "stream",
     "text": [
      "Hello Gold Ship!\n"
     ]
    }
   ],
   "source": [
    "def greet(name):\n",
    "    print(f\"Hello {name}!\")\n",
    "greet(\"Gold Ship\")"
   ]
  },
  {
   "cell_type": "markdown",
   "id": "98892dcb-403b-44a9-979c-c61cd7f52675",
   "metadata": {},
   "source": [
    "# Challenge: Convert Temperatures\n",
    "___"
   ]
  },
  {
   "cell_type": "code",
   "execution_count": 67,
   "id": "94c56680-6733-440b-b325-d2a8510793b5",
   "metadata": {},
   "outputs": [
    {
     "name": "stdin",
     "output_type": "stream",
     "text": [
      "Enter a temperature in degrees C: 37\n"
     ]
    },
    {
     "name": "stdout",
     "output_type": "stream",
     "text": [
      "37.00 degrees C = 98.60 degrees F\n"
     ]
    }
   ],
   "source": [
    "def convert_cel_to_far(number): return (number * 1.8) + 32\n",
    "user_input = input(\"Enter a temperature in degrees C:\")\n",
    "print(f\"{float(user_input):.2f} degrees C = {convert_cel_to_far(float(user_input)):.2f} degrees F\")"
   ]
  },
  {
   "cell_type": "code",
   "execution_count": 35,
   "id": "6ea5eac4-7988-46e1-805f-21eb7a592447",
   "metadata": {},
   "outputs": [
    {
     "name": "stdin",
     "output_type": "stream",
     "text": [
      "Enter a temperature in degrees F: 72\n"
     ]
    },
    {
     "name": "stdout",
     "output_type": "stream",
     "text": [
      "72.00 degrees F = 22.22 degrees C\n"
     ]
    }
   ],
   "source": [
    "def convert_far_to_cel(number): return (number - 32) / 1.8\n",
    "num2 = input(\"Enter a temperature in degrees F:\")\n",
    "print(f\"{float(num2):.2f} degrees F = {convert_far_to_cel(float(num2)):.2f} degrees C\")"
   ]
  },
  {
   "cell_type": "markdown",
   "id": "c7e7df78-df99-417d-a1ba-8f03033e46c9",
   "metadata": {},
   "source": [
    "# Review Questions No. 2\n",
    "___"
   ]
  },
  {
   "cell_type": "code",
   "execution_count": 79,
   "id": "111a489b-b365-4c0d-8878-fec67c3d43e6",
   "metadata": {},
   "outputs": [
    {
     "name": "stdout",
     "output_type": "stream",
     "text": [
      "2\n",
      "3\n",
      "4\n",
      "5\n",
      "6\n",
      "7\n",
      "8\n",
      "9\n",
      "10\n"
     ]
    }
   ],
   "source": [
    "for num in range(2,11): print(num)"
   ]
  },
  {
   "cell_type": "code",
   "execution_count": 78,
   "id": "a02b88ad-7899-43cb-839d-00310504a5ca",
   "metadata": {},
   "outputs": [
    {
     "name": "stdout",
     "output_type": "stream",
     "text": [
      "2\n",
      "3\n",
      "4\n",
      "5\n",
      "6\n",
      "7\n",
      "8\n",
      "9\n",
      "10\n"
     ]
    }
   ],
   "source": [
    "n = 2\n",
    "while n < 11: \n",
    "    print(n) \n",
    "    n += 1"
   ]
  },
  {
   "cell_type": "code",
   "execution_count": 62,
   "id": "4252b14b-5dba-42e3-a4ff-d3415a6a59b6",
   "metadata": {},
   "outputs": [
    {
     "name": "stdout",
     "output_type": "stream",
     "text": [
      "4\n",
      "8\n",
      "16\n"
     ]
    }
   ],
   "source": [
    "def doubles(num): return num * 2\n",
    "number = 2\n",
    "for n in range(0,3):\n",
    "    number = doubles(int(number)) \n",
    "    print(number)"
   ]
  },
  {
   "cell_type": "code",
   "execution_count": 77,
   "id": "7a537900-58af-45f8-ae30-0401d4e3a371",
   "metadata": {},
   "outputs": [
    {
     "name": "stdout",
     "output_type": "stream",
     "text": [
      "4\n",
      "8\n",
      "16\n"
     ]
    }
   ],
   "source": [
    "def doubles(num): return num * 2\n",
    "number , n = 2, 0\n",
    "while n < 3:\n",
    "    number = doubles(int(number))\n",
    "    print(number)\n",
    "    n += 1"
   ]
  }
 ],
 "metadata": {
  "kernelspec": {
   "display_name": "Python 3 (ipykernel)",
   "language": "python",
   "name": "python3"
  },
  "language_info": {
   "codemirror_mode": {
    "name": "ipython",
    "version": 3
   },
   "file_extension": ".py",
   "mimetype": "text/x-python",
   "name": "python",
   "nbconvert_exporter": "python",
   "pygments_lexer": "ipython3",
   "version": "3.13.5"
  }
 },
 "nbformat": 4,
 "nbformat_minor": 5
}
