{
 "cells": [
  {
   "cell_type": "markdown",
   "id": "000c1edc-6afe-4e93-a3ed-84b63a208ac1",
   "metadata": {},
   "source": [
    "# 1st Long Exam Date:September, 09 2025"
   ]
  },
  {
   "cell_type": "markdown",
   "id": "5b1f8e07-0a03-49bc-8248-6d57dde6280a",
   "metadata": {},
   "source": [
    "# Name: Barral, Jacinth Cedric C  ID Number: 23784994"
   ]
  },
  {
   "cell_type": "markdown",
   "id": "9bcbbb29-60dc-4abe-811f-34d4f8173db0",
   "metadata": {},
   "source": [
    "# Question 1"
   ]
  },
  {
   "cell_type": "code",
   "execution_count": 5,
   "id": "67542cfe-4d2b-4eb1-9433-62e2459178bc",
   "metadata": {},
   "outputs": [
    {
     "name": "stdin",
     "output_type": "stream",
     "text": [
      "Enter your number: Cedric\n"
     ]
    },
    {
     "name": "stdout",
     "output_type": "stream",
     "text": [
      "Hello! Cedric\n"
     ]
    }
   ],
   "source": [
    "user_input = input(\"Enter your number:\")\n",
    "print(f\"Hello! {user_input}\")"
   ]
  },
  {
   "cell_type": "markdown",
   "id": "117e2cf3-51e2-4da0-8199-92bd4f88569e",
   "metadata": {},
   "source": [
    "# Question 2"
   ]
  },
  {
   "cell_type": "code",
   "execution_count": 7,
   "id": "75b4420c-cfbd-45b3-b6e3-98bb4b268d90",
   "metadata": {},
   "outputs": [
    {
     "name": "stdin",
     "output_type": "stream",
     "text": [
      "Enter a number: 5\n"
     ]
    },
    {
     "name": "stdout",
     "output_type": "stream",
     "text": [
      "The sum of all the integers from 1 to 5 is: 15.0\n"
     ]
    }
   ],
   "source": [
    "inp = int(input(\"Enter a number:\"))\n",
    "pos_num = abs(inp)\n",
    "sum = (pos_num * (pos_num + 1)) / 2\n",
    "print(f\"The sum of all the integers from 1 to {inp} is: {sum}\")"
   ]
  },
  {
   "cell_type": "markdown",
   "id": "0fa16e35-d98d-46b4-8023-4705a5ca8f38",
   "metadata": {},
   "source": [
    "# Question 3"
   ]
  },
  {
   "cell_type": "code",
   "execution_count": 16,
   "id": "2d88cb58-8569-4ff8-b734-a3ee9b116c58",
   "metadata": {},
   "outputs": [
    {
     "name": "stdin",
     "output_type": "stream",
     "text": [
      "Enter a letter: a\n"
     ]
    },
    {
     "name": "stdout",
     "output_type": "stream",
     "text": [
      "Letter a is a vowel!\n"
     ]
    }
   ],
   "source": [
    "inp = input(\"Enter a letter:\").lower()\n",
    "if inp == 'a' or inp == 'e' or inp == 'i' or inp == 'o' or inp == 'u':\n",
    "    print(f\"Letter {inp} is a vowel!\")\n",
    "elif inp == 'y':\n",
    "    print(f\"Letter {inp} is sometimes a vowel or a consonant!\")\n",
    "else:\n",
    "    print(f\"Letter {inp} is a consonant!\")"
   ]
  },
  {
   "cell_type": "markdown",
   "id": "a6f374ef-6635-483b-aaf8-6c711b757bcc",
   "metadata": {},
   "source": [
    "# Question 4"
   ]
  },
  {
   "cell_type": "code",
   "execution_count": 22,
   "id": "c5c31217-c575-4fef-abc4-8c5093e3d94d",
   "metadata": {},
   "outputs": [
    {
     "name": "stdin",
     "output_type": "stream",
     "text": [
      "Enter a word: anna\n"
     ]
    },
    {
     "name": "stdout",
     "output_type": "stream",
     "text": [
      "The word anna is not a palindrome!\n"
     ]
    }
   ],
   "source": [
    "inp = input(\"Enter a word:\").lower()\n",
    "rev = \"\"\n",
    "for i in range((len(inp)-1), 0):\n",
    "    rev += inp[i]\n",
    "if inp == rev:\n",
    "    print(f\"The word {inp} is a palindrome!\")\n",
    "else:\n",
    "    print(f\"The word {inp} is not a palindrome!\")"
   ]
  },
  {
   "cell_type": "markdown",
   "id": "b032672e-d0d8-40ea-a13e-4874ad22d6f5",
   "metadata": {},
   "source": [
    "# Question 5"
   ]
  },
  {
   "cell_type": "code",
   "execution_count": 17,
   "id": "82e5ab59-717a-485b-b542-a3af927d5fd6",
   "metadata": {},
   "outputs": [
    {
     "name": "stdin",
     "output_type": "stream",
     "text": [
      "Enter a value for a: 6\n",
      "Enter a value for b: 3\n"
     ]
    },
    {
     "name": "stdout",
     "output_type": "stream",
     "text": [
      "The value of the hypotenuse is: 6.71\n"
     ]
    }
   ],
   "source": [
    "a, b = float(input(\"Enter a value for a:\")), float(input(\"Enter a value for b:\"))\n",
    "def calc_hypotenuse(x,y):\n",
    "    h = ((a**2) + (b**2)) ** (1/2)\n",
    "    return h\n",
    "print(f\"The value of the hypotenuse is: {calc_hypotenuse(a,b):.2f}\")"
   ]
  },
  {
   "cell_type": "code",
   "execution_count": null,
   "id": "56c59a17-6c34-40e3-814d-1390be3a4771",
   "metadata": {},
   "outputs": [],
   "source": []
  }
 ],
 "metadata": {
  "kernelspec": {
   "display_name": "Python 3 (ipykernel)",
   "language": "python",
   "name": "python3"
  },
  "language_info": {
   "codemirror_mode": {
    "name": "ipython",
    "version": 3
   },
   "file_extension": ".py",
   "mimetype": "text/x-python",
   "name": "python",
   "nbconvert_exporter": "python",
   "pygments_lexer": "ipython3",
   "version": "3.13.5"
  }
 },
 "nbformat": 4,
 "nbformat_minor": 5
}
