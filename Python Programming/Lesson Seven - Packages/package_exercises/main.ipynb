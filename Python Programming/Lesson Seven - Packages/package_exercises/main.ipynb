{
 "cells": [
  {
   "cell_type": "markdown",
   "id": "57c87a8d-2537-4d19-b1d4-3dc21e447fb4",
   "metadata": {},
   "source": [
    "# Review Question # 2\n",
    "___"
   ]
  },
  {
   "cell_type": "code",
   "execution_count": 4,
   "id": "f7b86029-97ec-4a53-98c7-338e7f41baf6",
   "metadata": {},
   "outputs": [
    {
     "name": "stdout",
     "output_type": "stream",
     "text": [
      "THE AREA OF A 5-BY-8 RECTANGLE IS 40\n"
     ]
    }
   ],
   "source": [
    "from helpers.string import shout\n",
    "from helpers.math import area\n",
    "name = shout(\"rectangle\")\n",
    "product = area(5,8)\n",
    "print(f\"THE AREA OF A 5-BY-8 {name} IS {product}\")"
   ]
  },
  {
   "cell_type": "code",
   "execution_count": null,
   "id": "eb304a2a-76b6-419b-8b92-5a9c50e14838",
   "metadata": {},
   "outputs": [],
   "source": []
  }
 ],
 "metadata": {
  "kernelspec": {
   "display_name": "Python [conda env:base] *",
   "language": "python",
   "name": "conda-base-py"
  },
  "language_info": {
   "codemirror_mode": {
    "name": "ipython",
    "version": 3
   },
   "file_extension": ".py",
   "mimetype": "text/x-python",
   "name": "python",
   "nbconvert_exporter": "python",
   "pygments_lexer": "ipython3",
   "version": "3.13.5"
  }
 },
 "nbformat": 4,
 "nbformat_minor": 5
}
