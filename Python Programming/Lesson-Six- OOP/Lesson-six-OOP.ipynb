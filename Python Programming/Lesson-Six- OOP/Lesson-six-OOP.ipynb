{
 "cells": [
  {
   "cell_type": "markdown",
   "id": "6c242b97-ee8d-4b05-a0fc-d27dfe9bbe65",
   "metadata": {},
   "source": [
    "# Review Question #1\n",
    "___"
   ]
  },
  {
   "cell_type": "code",
   "execution_count": 13,
   "id": "f3391539-de8e-44f7-917e-0cc015c61d49",
   "metadata": {},
   "outputs": [
    {
     "name": "stdout",
     "output_type": "stream",
     "text": [
      "Philo's coat is brown.\n"
     ]
    }
   ],
   "source": [
    "class Dog:\n",
    "    species =\"Cannis Familiaris\"\n",
    "\n",
    "    def __init__(self,name,age,coat_color):\n",
    "        self.name = name\n",
    "        self.age = age\n",
    "        self.coat_color = coat_color \n",
    "\n",
    "philo = Dog(\"Philo\",5 ,\"brown\")\n",
    "print(f\"{philo.name}'s coat is {philo.coat_color}.\")"
   ]
  },
  {
   "cell_type": "code",
   "execution_count": 2,
   "id": "0b9da4c1-5220-4d0b-b806-20627f28b329",
   "metadata": {},
   "outputs": [
    {
     "name": "stdout",
     "output_type": "stream",
     "text": [
      "The blue car has 20,000 miles\n",
      "The red car has 30,000 miles\n"
     ]
    }
   ],
   "source": [
    "class Car:\n",
    "\n",
    "    def __init__(self, color, miliage):\n",
    "        self.color = color\n",
    "        self.miliage = miliage\n",
    "\n",
    "\n",
    "blueCar = Car(\"blue\", 20000)\n",
    "redCar = Car(\"red\", 30000)\n",
    "\n",
    "print(f\"The {blueCar.color} car has {blueCar.miliage:,} miles\")\n",
    "print(f\"The {redCar.color} car has {redCar.miliage:,} miles\")"
   ]
  },
  {
   "cell_type": "code",
   "execution_count": 3,
   "id": "3a14f729-a64d-464e-a35c-d65530c112fe",
   "metadata": {},
   "outputs": [
    {
     "name": "stdout",
     "output_type": "stream",
     "text": [
      "The blue car has 20,400 miles\n",
      "The red car has 30,000 miles\n"
     ]
    }
   ],
   "source": [
    "class Car:\n",
    "\n",
    "    def __init__(self, color, miliage):\n",
    "        self.color = color\n",
    "        self.miliage = miliage\n",
    "\n",
    "    def drive(self,num):\n",
    "        self.miliage += num\n",
    "        return self.miliage \n",
    "        \n",
    "blueCar = Car(\"blue\", 20000)\n",
    "redCar = Car(\"red\", 30000)\n",
    "blueCar.drive(400)\n",
    "\n",
    "print(f\"The {blueCar.color} car has {blueCar.miliage:,} miles\")\n",
    "print(f\"The {redCar.color} car has {redCar.miliage:,} miles\")"
   ]
  },
  {
   "cell_type": "markdown",
   "id": "ac3b1532-df2f-499b-bc00-749f1b63480d",
   "metadata": {},
   "source": [
    "# Review Questions #2\n",
    "___"
   ]
  },
  {
   "cell_type": "code",
   "execution_count": 19,
   "id": "710ead13-8a13-4fe7-8fd4-6637484cdcc9",
   "metadata": {},
   "outputs": [
    {
     "name": "stdout",
     "output_type": "stream",
     "text": [
      "Peewee says Bark\n",
      "Peewee says BORKK\n"
     ]
    }
   ],
   "source": [
    "class Dog:\n",
    "    species =\"Cannis Familiaris\"\n",
    "\n",
    "    def __init__(self,name,age):\n",
    "        self.name = name\n",
    "        self.age = age\n",
    "    def __str__(self):\n",
    "        return f\"{self.name} is {self.age} years old\"\n",
    "\n",
    "    def speak(self, sound):\n",
    "        return f\"{self.name} says {sound}\"\n",
    "    \n",
    "class GoldenRetriever(Dog):\n",
    "    def speak(self, sound=\"Bark\"):\n",
    "        print(f\"{self.name} says {sound}\")\n",
    "\n",
    "dog = GoldenRetriever(\"Peewee\",3)\n",
    "dog.speak()\n",
    "dog.speak(\"BORKK\")"
   ]
  },
  {
   "cell_type": "code",
   "execution_count": 5,
   "id": "4e4b1979-6b7f-4719-b74e-9a4d6100b6ca",
   "metadata": {},
   "outputs": [
    {
     "data": {
      "text/plain": [
       "16"
      ]
     },
     "execution_count": 5,
     "metadata": {},
     "output_type": "execute_result"
    }
   ],
   "source": [
    "class Rectangle:\n",
    "\n",
    "    def __init__(self, length,width):\n",
    "        self.length = length\n",
    "        self.width = width\n",
    "\n",
    "    def area(self):\n",
    "        return self.length * self.width\n",
    "\n",
    "class Square(Rectangle):\n",
    "\n",
    "    def __init__(self, side_length):\n",
    "        super().__init__(side_length,side_length)\n",
    "\n",
    "shape1 = Square(4)\n",
    "shape1.area()"
   ]
  },
  {
   "cell_type": "markdown",
   "id": "2eb8d8ca-1840-4964-bbec-badf75c2052e",
   "metadata": {},
   "source": [
    "# Challenge: Model a Farm\n",
    "___"
   ]
  },
  {
   "cell_type": "code",
   "execution_count": 20,
   "id": "499f8ac4-f529-49ae-9ef0-06c6762a22c7",
   "metadata": {},
   "outputs": [
    {
     "name": "stdout",
     "output_type": "stream",
     "text": [
      "Sotto is eating.\n",
      "Sotto says Maa!\n",
      "Sotto produces 2 liters of milk per day.\n",
      "Sotto is climbing rocks skillfully!\n",
      "Discayan is sleeping.\n",
      "Discayan says Baaaa!\n",
      "Discayan is being sheared for its white wool.\n",
      "Tulfo is eating.\n",
      "Tulfo says Neigh!\n",
      "Tulfo is galloping at 45 km/h!\n",
      "Tulfo is jumping over a fence gracefully!\n"
     ]
    }
   ],
   "source": [
    "# Parent\n",
    "class Animal:\n",
    "    def __init__(self, name, age):\n",
    "        self.name = name\n",
    "        self.age = age\n",
    "\n",
    "    def eat(self):\n",
    "        print(f\"{self.name} is eating.\")\n",
    "\n",
    "    def sleep(self):\n",
    "        print(f\"{self.name} is sleeping.\")\n",
    "\n",
    "#Children\n",
    "class Goat(Animal):\n",
    "    def __init__(self, name, age, milk_production):\n",
    "        super().__init__(name, age)\n",
    "        self.milk_production = milk_production\n",
    "\n",
    "    def make_sound(self):\n",
    "        print(f\"{self.name} says Maa!\")\n",
    "\n",
    "    def produce_milk(self):\n",
    "        print(f\"{self.name} produces {self.milk_production} liters of milk per day.\")\n",
    "\n",
    "    def climb_rocks(self):\n",
    "        print(f\"{self.name} is climbing rocks skillfully!\")\n",
    "\n",
    "\n",
    "class Sheep(Animal):\n",
    "    def __init__(self, name, age, wool_color):\n",
    "        super().__init__(name, age)\n",
    "        self.wool_color = wool_color\n",
    "\n",
    "    def make_sound(self):\n",
    "        print(f\"{self.name} says Baaaa!\")\n",
    "\n",
    "    def shear_wool(self):\n",
    "        print(f\"{self.name} is being sheared for its {self.wool_color} wool.\")\n",
    "\n",
    "class Horse(Animal):\n",
    "    def __init__(self, name, age, speed):\n",
    "        super().__init__(name, age)\n",
    "        self.speed = speed\n",
    "\n",
    "    def make_sound(self):\n",
    "        print(f\"{self.name} says Neigh!\")\n",
    "\n",
    "    def gallop(self):\n",
    "        print(f\"{self.name} is galloping at {self.speed} km/h!\")\n",
    "\n",
    "    def jump_fence(self):\n",
    "        print(f\"{self.name} is jumping over a fence gracefully!\")\n",
    "goat = Goat(\"Sotto\", 3, 2)\n",
    "sheep = Sheep(\"Discayan\", 2, \"white\")\n",
    "horse = Horse(\"Tulfo\", 4, 45)\n",
    "\n",
    "goat.eat()\n",
    "goat.make_sound()\n",
    "goat.produce_milk()\n",
    "goat.climb_rocks()\n",
    "sheep.sleep()\n",
    "sheep.make_sound()\n",
    "sheep.shear_wool()\n",
    "horse.eat()\n",
    "horse.make_sound()\n",
    "horse.gallop()\n",
    "horse.jump_fence()"
   ]
  },
  {
   "cell_type": "code",
   "execution_count": null,
   "id": "9f16a336-b9bf-4061-a055-6f172fcc63a4",
   "metadata": {},
   "outputs": [],
   "source": []
  }
 ],
 "metadata": {
  "kernelspec": {
   "display_name": "Python [conda env:base] *",
   "language": "python",
   "name": "conda-base-py"
  },
  "language_info": {
   "codemirror_mode": {
    "name": "ipython",
    "version": 3
   },
   "file_extension": ".py",
   "mimetype": "text/x-python",
   "name": "python",
   "nbconvert_exporter": "python",
   "pygments_lexer": "ipython3",
   "version": "3.13.5"
  }
 },
 "nbformat": 4,
 "nbformat_minor": 5
}
