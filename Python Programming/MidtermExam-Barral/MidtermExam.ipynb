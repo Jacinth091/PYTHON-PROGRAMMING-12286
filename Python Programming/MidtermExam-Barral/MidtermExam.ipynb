{
 "cells": [
  {
   "cell_type": "markdown",
   "id": "7f97ffc4-fcf2-4ba7-9300-b3fd4830c282",
   "metadata": {},
   "source": [
    "# Midterm (3rd Year IT): Coding + LLM Critique\n",
    "Transparency with ChatGPT Use, Code Review, and Improvement"
   ]
  },
  {
   "cell_type": "markdown",
   "id": "339b0559-2346-4fca-8378-7743c56da960",
   "metadata": {},
   "source": [
    "# Problems (Do All 10)\n",
    "___"
   ]
  },
  {
   "cell_type": "markdown",
   "id": "179c6369-3a54-408e-b82e-eb549f423b76",
   "metadata": {},
   "source": [
    "# Task #1. String Normalizer & Finder. \n",
    "Write a function normalize_and_find(text:\n",
    "str, needle: str) -> int that: (1) trims whitespace on both ends, (2) converts to lowercase, then (3) returns the index of the first occurrence of needle using\n",
    "a safe search (return −1 if not found). Discuss alternatives (find vs. index), and\n",
    "how your choice affects error handling. Anchor concepts: stripping, case conversion,\n",
    "find/replace, string immutability.\n"
   ]
  },
  {
   "cell_type": "markdown",
   "id": "c3151cd6-87bb-4a1a-a4bd-9bb66256a50c",
   "metadata": {},
   "source": [
    "# Prompt (paste verbatim)\n",
    "Write a Python function normalize_and_find(text, needle) that trims whitespace on both ends, converts both strings to lowercase, and returns the index of the first occurrence of needle in text. If not found, return -1. Discuss the difference between find() and index(), and how this choice affects error handling. Add a quick test.\n"
   ]
  },
  {
   "cell_type": "code",
   "execution_count": 1,
   "id": "92602ffd-f1f2-4469-be5f-3e7637207d30",
   "metadata": {},
   "outputs": [
    {
     "name": "stdout",
     "output_type": "stream",
     "text": [
      "6\n",
      "-1\n"
     ]
    }
   ],
   "source": [
    "def normalize_and_find(text, needle):\n",
    "    # Step 1: Trim whitespace and convert to lowercase\n",
    "    text = text.strip().lower()\n",
    "    needle = needle.strip().lower()\n",
    "\n",
    "    # Step 2: Find the first occurrence of needle in text\n",
    "    index = text.find(needle)\n",
    "\n",
    "    # Step 3: Return the index (or -1 if not found)\n",
    "    return index\n",
    "\n",
    "\n",
    "# 🔍 Quick test\n",
    "print(normalize_and_find(\"   Hello World   \", \"WORLD\"))  # Output: 6\n",
    "print(normalize_and_find(\"  Python Exam  \", \"test\"))     # Output: -1\n"
   ]
  },
  {
   "cell_type": "markdown",
   "id": "822cb279-9155-4c93-864b-0b1cb02d54e1",
   "metadata": {},
   "source": [
    "# Critique\n",
    "\n",
    "# Correctness: \n",
    "Correctly normalizes both strings using .strip() and .lower(), then finds the first occurrence with .find(). The method returns -1 when not found, matching the spec. Behavior is correct for given tests.\n",
    "# Complexity: \n",
    "O(n + m) time where n is length of text and m is length of needle. O(n + m) space due to creating new normalized strings. This is optimal for the string find operation.\n",
    "# Robustness:  \n",
    "Works for basic cases but lacks edge case handling. According to string basics, should consider empty strings and boundary conditions. No type validation is present.\n",
    "# Readability: \n",
    "Step-by-step comments are clear but verbose for simple string operations. The intermediate index variable adds no value—directly returning the result would be cleaner. Emoji in comments is non-standard.                    Following string method conventions from Lesson One, the code could be more concise while remaining clear.\n",
    "# Faithfulness: \n",
    "Uses core string methods from Lesson One (.strip(), .lower(), .find()) correctly. These are fundamental string manipulation operations covered in the strings lesson. However, the function mutates the        parameter names by reassigning, which can be confusing.\n",
    "\n",
    "Reference: Lesson One - Strings (string methods: .strip(), .lower(), .find())"
   ]
  },
  {
   "cell_type": "markdown",
   "id": "73338cc9-4920-4470-b324-9498337a0144",
   "metadata": {},
   "source": [
    " # Improved Code"
   ]
  },
  {
   "cell_type": "code",
   "execution_count": 2,
   "id": "d3446d51-7ae9-46ce-adb2-b0c45beb34a6",
   "metadata": {},
   "outputs": [
    {
     "name": "stdout",
     "output_type": "stream",
     "text": [
      "All tests passed.\n"
     ]
    }
   ],
   "source": [
    "def normalize_and_find(text: str, needle: str) -> int:\n",
    "    \"\"\"\n",
    "    Find the first occurrence of needle in text after normalization.\n",
    "    \n",
    "    Both strings are trimmed of whitespace and converted to lowercase\n",
    "    before searching.\n",
    "    \n",
    "    Returns the index of first occurrence, or -1 if not found.\n",
    "    \"\"\"\n",
    "    normalized_text = text.strip().lower()\n",
    "    normalized_needle = needle.strip().lower()\n",
    "    return normalized_text.find(normalized_needle)\n",
    "\n",
    "\n",
    "if __name__ == \"__main__\":\n",
    "    # Basic functionality\n",
    "    assert normalize_and_find(\"   Hello World   \", \"WORLD\") == 6\n",
    "    assert normalize_and_find(\"  Python Exam  \", \"test\") == -1\n",
    "    \n",
    "    # Edge cases from string basics\n",
    "    assert normalize_and_find(\"\", \"\") == 0  # Empty needle found at index 0\n",
    "    assert normalize_and_find(\"abc\", \"\") == 0\n",
    "    assert normalize_and_find(\"\", \"x\") == -1\n",
    "    assert normalize_and_find(\"test\", \"test\") == 0\n",
    "    assert normalize_and_find(\"  TEST  \", \"test\") == 0\n",
    "    \n",
    "    print(\"All tests passed.\")"
   ]
  },
  {
   "cell_type": "markdown",
   "id": "97b98c73-0655-4a04-8d91-46bee2acea86",
   "metadata": {},
   "source": [
    "# Task #2. Leetspeak Translator (Parametric). \n",
    "Generalize our leetspeak idea: write translate(text:\n",
    "str, mapping: dict[str,str]) -> str that applies a mapping (e.g., {’a’:’4’,’e’:’3’,...})\n",
    "over lowercase letters only, leaving others unchanged. Explain why strings are immutable and show an efficient approach (e.g., list join vs. repeated concatenation).\n",
    "Anchor concepts: replace, iteration strategies, efficiency. Reference: :contentReference[oaicite:7]index=7\n"
   ]
  },
  {
   "cell_type": "markdown",
   "id": "e1c5c8ed-66bf-484a-9455-7321c7380a13",
   "metadata": {},
   "source": [
    "# Prompt (paste verbatim)\n",
    "Write a Python function translate(text, mapping) that applies a given mapping (e.g., {'a': '4', 'e': '3', ...}) to lowercase letters only, leaving all other characters unchanged. Explain why strings in Python are immutable and show an efficient approach for building the result (e.g., using list join instead of repeated string concatenation). Add a quick test."
   ]
  },
  {
   "cell_type": "code",
   "execution_count": 4,
   "id": "d22cbdef-a922-4051-a4c1-768396eaa3d5",
   "metadata": {},
   "outputs": [
    {
     "name": "stdout",
     "output_type": "stream",
     "text": [
      "H3ll0, W0rld!\n",
      "Pyth0n 1s 4w3s0m3\n"
     ]
    }
   ],
   "source": [
    "def translate(text, mapping):\n",
    "    # Efficiently build result using a list\n",
    "    result_chars = []\n",
    "\n",
    "    for ch in text:\n",
    "        # Apply mapping only to lowercase letters\n",
    "        if ch in mapping:\n",
    "            result_chars.append(mapping[ch])\n",
    "        else:\n",
    "            result_chars.append(ch)\n",
    "\n",
    "    # Join the list into a final string\n",
    "    return ''.join(result_chars)\n",
    "\n",
    "\n",
    "# 🔍 Quick test\n",
    "leet_map = {'a': '4', 'e': '3', 'i': '1', 'o': '0'}\n",
    "print(translate(\"Hello, World!\", leet_map))  # Output: \"H3ll0, W0rld!\"\n",
    "print(translate(\"Python is awesome\", leet_map))  # Output: \"Pyth0n 1s 4w3s0m3\""
   ]
  },
  {
   "cell_type": "markdown",
   "id": "ba44112f-102e-412b-b156-336791596f4d",
   "metadata": {},
   "source": [
    "# Critique\n",
    "\n",
    "# Correctness: \n",
    "The function correctly applies the mapping to characters found in the dictionary and leaves others unchanged. It properly uses .join() to build the final string. However, the prompt says \"lowercase letters only,\" but the code applies the mapping to ANY character in the dictionary, not specifically checking if it's a lowercase letter. If the mapping contains uppercase keys, they would also be translated. This is a minor spec violation.\n",
    "# Complexity:\n",
    "O(n) time where n is the length of text (single pass). O(n) space for the result_chars list. This is optimal. Using list + join is O(n), whereas repeated string concatenation would be O(n²) due to string immutability.\n",
    "# Robustness: \n",
    "Works for empty strings and strings without any mappable characters. However, doesn't validate input types. The function doesn't explicitly enforce \"lowercase letters only\" as stated in the prompt.\n",
    "# Readability:\n",
    "Clear variable names and helpful comments. The logic is straightforward. However, the comment about string immutability is missing—the prompt asked to \"explain why strings are immutable.\" No docstring present. Emoji in test comments is non-standard.\n",
    "# Faithfulness: \n",
    "Correctly demonstrates the list-join pattern for efficient string building, which is a key concept from Lesson One - Strings. The approach avoids the O(n²) cost of repeated concatenation due to string immutability. However, it doesn't explicitly explain the immutability concept as requested.\n",
    "\n",
    "# Reference: Lesson One - Strings (string immutability, efficient string building with list + .join(), iteration)"
   ]
  },
  {
   "cell_type": "markdown",
   "id": "5332781b-88df-4627-9f7a-e2634fd7c494",
   "metadata": {},
   "source": [
    "# Improved Code"
   ]
  },
  {
   "cell_type": "code",
   "execution_count": 5,
   "id": "f1a323a2-a28d-4128-8ae0-9da30dd83deb",
   "metadata": {},
   "outputs": [
    {
     "name": "stdout",
     "output_type": "stream",
     "text": [
      "All tests passed.\n"
     ]
    }
   ],
   "source": [
    "def translate(text: str, mapping: dict[str, str]) -> str:\n",
    "    \"\"\"\n",
    "    Apply a character mapping to text, translating only lowercase letters.\n",
    "    \n",
    "    Strings in Python are immutable—each modification creates a new string\n",
    "    object. Repeated concatenation (result += char) would be O(n²) because\n",
    "    each += creates a new string and copies all previous characters.\n",
    "    \n",
    "    Instead, we use the list-join pattern: build a list of characters in O(n),\n",
    "    then join once at the end, achieving O(n) total time.\n",
    "    \n",
    "    Args:\n",
    "        text: The input string to translate\n",
    "        mapping: Dictionary mapping lowercase letters to replacement strings\n",
    "        \n",
    "    Returns:\n",
    "        Translated string with mappings applied to lowercase letters only\n",
    "    \"\"\"\n",
    "    result_chars = []\n",
    "    for ch in text:\n",
    "        # Only apply mapping if character is a lowercase letter in the mapping\n",
    "        if ch.islower() and ch in mapping:\n",
    "            result_chars.append(mapping[ch])\n",
    "        else:\n",
    "            result_chars.append(ch)\n",
    "    return ''.join(result_chars)\n",
    "\n",
    "\n",
    "if __name__ == \"__main__\":\n",
    "    leet_map = {'a': '4', 'e': '3', 'i': '1', 'o': '0'}\n",
    "    \n",
    "    # Basic functionality\n",
    "    assert translate(\"Hello, World!\", leet_map) == \"H3ll0, W0rld!\"\n",
    "    assert translate(\"Python is awesome\", leet_map) == \"Pyth0n 1s 4w3s0m3\"\n",
    "    \n",
    "    # Edge cases\n",
    "    assert translate(\"\", leet_map) == \"\"\n",
    "    assert translate(\"XYZ123\", leet_map) == \"XYZ123\"  # No lowercase mappable chars\n",
    "    assert translate(\"aaa\", leet_map) == \"444\"\n",
    "    assert translate(\"AEI\", leet_map) == \"AEI\"  # Uppercase not translated\n",
    "    \n",
    "    print(\"All tests passed.\")"
   ]
  },
  {
   "cell_type": "markdown",
   "id": "107202a2-7490-47fb-81c2-632f37052849",
   "metadata": {},
   "source": [
    "# Task 3. Currency Formatter & Rounding Ties-to-Even. \n",
    "Write fmt_money(x: float)\n",
    "-> str that returns a string like 1,234.50 using proper rounding (banker’s rounding / ties-to-even). Include test cases that demonstrate ties (e.g., 2.5, 3.5). Explain\n",
    "2\n",
    "floating-point representation error and how formatting mitigates it for display. Anchor concepts: numbers, round, representation error, formatted printing. Reference:\n",
    ":contentReference[oaicite:8]index=8"
   ]
  },
  {
   "cell_type": "markdown",
   "id": "3bab8a56-4a83-4a68-83b5-1abc7b83b6da",
   "metadata": {},
   "source": [
    "# Prompt (verbatim)\n",
    "Write a Python function fmt_money(x) that returns a string formatted like 1,234.50, using proper rounding (banker’s rounding or ties-to-even). Include test cases that demonstrate rounding of ties (e.g., 2.5, 3.5). Explain floating-point representation error and how formatted printing helps mitigate it for display."
   ]
  },
  {
   "cell_type": "markdown",
   "id": "75ca9b9e-8ffd-498e-aeeb-c021c1e48d55",
   "metadata": {},
   "source": [
    "# ChatGPT Code"
   ]
  },
  {
   "cell_type": "code",
   "execution_count": 6,
   "id": "a8798d2c-c384-4f0c-8f92-526747ee148a",
   "metadata": {},
   "outputs": [
    {
     "name": "stdout",
     "output_type": "stream",
     "text": [
      "1,234.50\n",
      "1,234.57\n",
      "2.50\n",
      "3.50\n",
      "1,234,567.34\n"
     ]
    }
   ],
   "source": [
    "def fmt_money(x):\n",
    "    # Use round(x, 2) with banker's rounding (ties-to-even)\n",
    "    rounded = round(x, 2)\n",
    "\n",
    "    # Format with comma separators and 2 decimal places\n",
    "    return f\"{rounded:,.2f}\"\n",
    "\n",
    "\n",
    "# 🔍 Quick tests\n",
    "print(fmt_money(1234.5))      # → \"1,234.50\"\n",
    "print(fmt_money(1234.5678))   # → \"1,234.57\"\n",
    "print(fmt_money(2.5))         # → \"2.00\"  (2 is even → rounds down)\n",
    "print(fmt_money(3.5))         # → \"4.00\"  (3 is odd → rounds up)\n",
    "print(fmt_money(1234567.345)) # → \"1,234,567.34\"\n"
   ]
  },
  {
   "cell_type": "markdown",
   "id": "6cdbf172-ae8c-4953-b902-e407106da6c1",
   "metadata": {},
   "source": [
    "# Critique\n",
    "\n",
    "# Correctness: \n",
    "The function correctly uses banker's rounding via round(x, 2) and formats with comma separators and 2 decimal places using f-string format specifiers. However, the test case comments have errors: 2.5 rounds to 2.50 (not 2.00), and 3.5 rounds to 4.00 correctly. The logic is sound but test expectations are misleading.\n",
    "# Complexity: \n",
    "O(1) time for the rounding and formatting operations. O(log n) space where n is the magnitude of the number (for the string representation). This is optimal.\n",
    "# Robustness: \n",
    "Works for positive numbers but doesn't explicitly handle edge cases like negative numbers, zero, very large numbers, or non-numeric input. No type checking present.\n",
    "# Readability: \n",
    "Clear variable names and comments explain the approach. However, the prompt requested an explanation of floating-point representation error and how formatted printing mitigates it—this explanation is completely missing from the code. The intermediate rounded variable is unnecessary; the format specifier :,.2f already handles rounding. Emoji in comments is non-standard.\n",
    "# Faithfulness: \n",
    "Uses f-string formatting with format specifiers (:,.2f), which is a string formatting concept from Lesson One - Strings. However, the code doesn't explain the floating-point issue as requested. The explicit round() call is redundant since the .2f format specifier already rounds to 2 decimal places.\n",
    "\n",
    "# Reference: Lesson One - Strings (f-strings, format specifiers)"
   ]
  },
  {
   "cell_type": "markdown",
   "id": "9e6d93e2-6e75-4257-872f-18041083bdc9",
   "metadata": {},
   "source": [
    "# Improved Code"
   ]
  },
  {
   "cell_type": "code",
   "execution_count": 14,
   "id": "b7fa8d88-cf92-40d0-a458-a162bc30f15b",
   "metadata": {},
   "outputs": [
    {
     "name": "stdout",
     "output_type": "stream",
     "text": [
      "1,234.50\n",
      "1,234.57\n",
      "2.13\n",
      "2.12\n",
      "2.50\n",
      "3.50\n",
      "2.12\n",
      "1,234,567.89\n",
      "9,876,543.21\n",
      "0.00\n",
      "0.99\n",
      "-1,234.50\n",
      "0.30\n"
     ]
    }
   ],
   "source": [
    "def fmt_money(x: float) -> str:\n",
    "    \"\"\"\n",
    "    Format a number as money with comma separators and 2 decimal places.\n",
    "    \n",
    "    Floating-point representation error: Binary floats cannot exactly represent\n",
    "    many decimal values (e.g., 0.1 + 0.2 = 0.30000000000000004).\n",
    "    \n",
    "    The format specifier `:,.2f` mitigates this by rounding to 2 decimal places\n",
    "    and formatting as a fixed-point string with comma separators.\n",
    "    \"\"\"\n",
    "    return f\"{x:,.2f}\"\n",
    "\n",
    "\n",
    "print(fmt_money(1234.5))\n",
    "print(fmt_money(1234.5678))\n",
    "print(fmt_money(2.126))\n",
    "print(fmt_money(2.124))\n",
    "print(fmt_money(2.5))\n",
    "print(fmt_money(3.5))\n",
    "print(fmt_money(2.125))\n",
    "print(fmt_money(1234567.89))\n",
    "print(fmt_money(9876543.21))\n",
    "print(fmt_money(0))\n",
    "print(fmt_money(0.99))\n",
    "print(fmt_money(-1234.5))\n",
    "print(fmt_money(0.1 + 0.2))"
   ]
  },
  {
   "cell_type": "markdown",
   "id": "6dc1505c-2018-4bd8-b2f5-2d86b030fcac",
   "metadata": {},
   "source": [
    "# Task 4. Exponent Tool & Input Validation. \n",
    "Create a CLI program exponent.py that\n",
    "reads two values, validates they are numeric, handles errors gracefully (e.g., ValueError),\n",
    "and prints a ** b with clear messages. Compare using try/except vs. pre-validation\n",
    "with str.isdigit() (and why isdigit() is insufficient for negatives/floats). Anchor concepts: arithmetic operators, exceptions, input. Reference: :contentReference[oaicite:9]index=9, :contentReference[oaicite:10]index=10\n"
   ]
  },
  {
   "cell_type": "markdown",
   "id": "3848fe36-7db6-4bdb-af03-2dcd5290e437",
   "metadata": {},
   "source": [
    "# Prompt (paste verbatim)\n",
    "Create a Python CLI program exponent.py that reads two values, validates they are numeric, handles errors gracefully (e.g., ValueError), and prints a ** b with clear messages. Compare using try/except versus pre-validation with str.isdigit(), and explain why isdigit() is insufficient for negatives or floats. Add simple test runs or input/output examples."
   ]
  },
  {
   "cell_type": "markdown",
   "id": "99a87787-1804-41b1-b939-a8f8c0d51445",
   "metadata": {},
   "source": [
    "# ChatGPT Code"
   ]
  },
  {
   "cell_type": "code",
   "execution_count": 25,
   "id": "3d8d747a-a6aa-4da9-99f1-4c5fc78f150f",
   "metadata": {},
   "outputs": [
    {
     "name": "stdin",
     "output_type": "stream",
     "text": [
      "Enter base:  2\n",
      "Enter exponent:  3\n"
     ]
    },
    {
     "name": "stdout",
     "output_type": "stream",
     "text": [
      "Result: 2.0 ** 3.0 = 8.0\n",
      "\n"
     ]
    }
   ],
   "source": [
    "\n",
    "a = input(\"Enter base: \")\n",
    "b = input(\"Enter exponent: \")\n",
    "\n",
    "if a.isdigit() and b.isdigit():\n",
    "    print(f\"Result: {float(a)} ** {float(b)} = {float(a) ** float(b)}\\n\")\n",
    "else:\n",
    "    print(\"Invalid input. Please enter numbers only.\")"
   ]
  },
  {
   "cell_type": "markdown",
   "id": "2d45cff3-6838-4048-b157-ac8ac5f3fa8a",
   "metadata": {},
   "source": [
    "# Critique\n",
    "\n",
    "# Correctness: \n",
    "The program works for positive integers and prints correct results.\n",
    "\n",
    "    Lesson References:\n",
    "\n",
    "        Uses input() and ** (exponentiation) from Lesson Two – Numbers & Math.\n",
    "\n",
    "        The if/else decision structure connects to Lesson Four – Conditionals.\n",
    "\n",
    "# Limitations: \n",
    ".isdigit() cannot handle negative (-3) or float (2.5) numbers since these include non-digit characters (-, .).\n",
    "\n",
    "# Error Handling:\n",
    "Basic validation only; lacks robust handling of unexpected input.\n",
    "\n",
    "# Faithfulness: \n",
    "Implements early lesson concepts correctly, but doesn’t yet use functions or exception handling from later lessons.\n",
    "\n",
    "# Improvement \n",
    "Opportunity: Could apply functions (Lesson Three), try/except (Lesson Four), and modules (Lesson Seven) for better structure and maintainability."
   ]
  },
  {
   "cell_type": "markdown",
   "id": "f747d1e1-329a-4639-9a93-d13773baec3f",
   "metadata": {},
   "source": [
    "# Improved Code"
   ]
  },
  {
   "cell_type": "code",
   "execution_count": 26,
   "id": "3cadc897-c032-4ca6-9f67-c683e59da9a0",
   "metadata": {},
   "outputs": [
    {
     "name": "stdin",
     "output_type": "stream",
     "text": [
      "Enter base:  2\n",
      "Enter exponent:  3\n"
     ]
    },
    {
     "name": "stdout",
     "output_type": "stream",
     "text": [
      "Result: 2.0 ** 3.0 = 8.0\n",
      "\n"
     ]
    }
   ],
   "source": [
    "def main():\n",
    "    try:\n",
    "        \"\"\"Read two numbers, compute base ** exponent with safe conversion.\"\"\"\n",
    "        base_str = input(\"Enter base: \")\n",
    "        exp_str = input(\"Enter exponent: \")\n",
    "        \n",
    "        base = float(base_str)\n",
    "        exponent = float(exp_str)\n",
    "        \n",
    "        result = base ** exponent\n",
    "        print(f\"Result: {base} ** {exponent} = {result}\\n\")\n",
    "        \n",
    "    except ValueError:\n",
    "        print(\"Error: inputs must be numeric (e.g., 3, -2.5, 1e3).\")\n",
    "\n",
    "if __name__ == \"__main__\":\n",
    "    main()"
   ]
  },
  {
   "cell_type": "markdown",
   "id": "b70d32c4-f642-4048-865f-267cf3e5fc89",
   "metadata": {},
   "source": [
    "# Task 5 Password Policy Checker (If/Elif/Else + Loops). \n",
    "Implement check_password(pw:\n",
    "str) -> dict that validates: length ≥ 10, at least one uppercase, one lowercase,\n",
    "one digit, one symbol in !@#$%^&*, and no spaces. Return a dict of booleans per\n",
    "rule and an overall pass/fail. Include a loop that prompts until a valid password\n",
    "is entered (allow quit with Q/q). Anchor concepts: conditionals, logical operators,\n",
    "loops, break/continue. Reference: :contentReference[oaicite:11]index=11"
   ]
  },
  {
   "cell_type": "markdown",
   "id": "69b97291-d07e-4cef-bf92-6976012da48f",
   "metadata": {},
   "source": [
    "# Prompt (paste verbatim)\n",
    "Write a Python function check_password(pw) that validates a password according to the following rules: it must be at least 10 characters long, contain at least one uppercase letter, one lowercase letter, one digit, and one symbol from !@#$%^&*, and it must not contain any spaces. The function should return a dictionary of booleans for each rule as well as an overall pass/fail result. Additionally, include a loop that repeatedly prompts the user to enter a password until it passes all checks, allowing the user to quit by entering Q or q. Use if/elif/else statements, logical operators, and loop control statements such as break or continue."
   ]
  },
  {
   "cell_type": "markdown",
   "id": "95a61cc0-15c5-4698-84ff-081bfbc9f6c4",
   "metadata": {},
   "source": [
    "# ChatGPT Code"
   ]
  },
  {
   "cell_type": "code",
   "execution_count": 27,
   "id": "06bae36a-af1c-40cf-ae9d-b470b59587bb",
   "metadata": {},
   "outputs": [
    {
     "name": "stdin",
     "output_type": "stream",
     "text": [
      "Enter password (Q to quit):  123123123131\n"
     ]
    },
    {
     "name": "stdout",
     "output_type": "stream",
     "text": [
      "Invalid password. Please try again.\n",
      "\n"
     ]
    },
    {
     "name": "stdin",
     "output_type": "stream",
     "text": [
      "Enter password (Q to quit):  Gwapo0123\n"
     ]
    },
    {
     "name": "stdout",
     "output_type": "stream",
     "text": [
      "Invalid password. Please try again.\n",
      "\n"
     ]
    },
    {
     "name": "stdin",
     "output_type": "stream",
     "text": [
      "Enter password (Q to quit):  @Gwapo09123\n"
     ]
    },
    {
     "name": "stdout",
     "output_type": "stream",
     "text": [
      "Password is valid!\n",
      "\n"
     ]
    }
   ],
   "source": [
    "while True:\n",
    "    pw = input(\"Enter password (Q to quit): \")\n",
    "\n",
    "    if pw.lower() == \"q\":\n",
    "        print(\"Goodbye!\")\n",
    "        break\n",
    "\n",
    "    has_upper = False\n",
    "    has_lower = False\n",
    "    has_digit = False\n",
    "    has_symbol = False\n",
    "    has_space = False\n",
    "\n",
    "    for ch in pw:\n",
    "        if ch.isupper():\n",
    "            has_upper = True\n",
    "        elif ch.islower():\n",
    "            has_lower = True\n",
    "        elif ch.isdigit():\n",
    "            has_digit = True\n",
    "        elif ch in \"!@#$%^&*\":\n",
    "            has_symbol = True\n",
    "        elif ch.isspace():\n",
    "            has_space = True\n",
    "\n",
    "    if len(pw) >= 10 and has_upper and has_lower and has_digit and has_symbol and not has_space:\n",
    "        print(\"Password is valid!\\n\")\n",
    "        break\n",
    "    else:\n",
    "        print(\"Invalid password. Please try again.\\n\")\n"
   ]
  },
  {
   "cell_type": "markdown",
   "id": "450bcc81-4734-4eea-bd57-01a62f4d5604",
   "metadata": {},
   "source": [
    "# Critique\n",
    "\n",
    "# Correctness: \n",
    "The program correctly checks for uppercase, lowercase, digits, symbols, and spaces, and it identifies valid and invalid passwords for most typical cases.\n",
    "\n",
    "     Lesson References: \n",
    "        The code demonstrates the use of if/elif/else and logical operators from Lesson Four – Conditionals, as well as loops from Lesson Three – Functions and Loops, and   applies basic string methods introduced in Lesson One – Strings.\n",
    "\n",
    "# Limitations: \n",
    "The program is limited because it does not encapsulate the validation logic into a function, and it does not return a structured dictionary of rule checks.\n",
    "\n",
    "# Error Handling: \n",
    "While the program allows the user to quit with 'Q/q', it lacks a structured approach to report which specific rules failed, providing only a generic invalid message.\n",
    "\n",
    "# Faithfulness: \n",
    "This implementation is faithful to the concepts taught in the early lessons but does not yet incorporate functions, modular design, or more advanced handling from higher lessons.\n",
    "\n",
    "# Improvement Opportunity: \n",
    "The program could be improved by creating a check_password() function that returns a dictionary of validation results, using loops and logical operators more efficiently, and organizing the code with a main() function for better readability and maintainability, in line with lessons three through seven."
   ]
  },
  {
   "cell_type": "markdown",
   "id": "ae4a01fa-b35a-4c16-b186-6211779f54f4",
   "metadata": {},
   "source": [
    "# Improved Code"
   ]
  },
  {
   "cell_type": "code",
   "execution_count": 29,
   "id": "68c9954c-124a-4167-801c-b03d31f6e60c",
   "metadata": {},
   "outputs": [
    {
     "name": "stdin",
     "output_type": "stream",
     "text": [
      "Enter password (Q to quit):  gwapo09222!\n"
     ]
    },
    {
     "name": "stdout",
     "output_type": "stream",
     "text": [
      "Password failed these rules:\n",
      " - uppercase\n",
      "Please try again.\n",
      "\n"
     ]
    },
    {
     "name": "stdin",
     "output_type": "stream",
     "text": [
      "Enter password (Q to quit):  wapo09\n"
     ]
    },
    {
     "name": "stdout",
     "output_type": "stream",
     "text": [
      "Password failed these rules:\n",
      " - length\n",
      " - uppercase\n",
      " - symbol\n",
      "Please try again.\n",
      "\n"
     ]
    },
    {
     "name": "stdin",
     "output_type": "stream",
     "text": [
      "Enter password (Q to quit):  @gwapo2300Ayy\n"
     ]
    },
    {
     "name": "stdout",
     "output_type": "stream",
     "text": [
      "Password is valid!\n",
      "\n"
     ]
    }
   ],
   "source": [
    "def check_password(pw: str) -> dict:\n",
    "    \"\"\"Validate password according to policy rules.\"\"\"\n",
    "    results = {\n",
    "        \"length\": len(pw) >= 10,\n",
    "        \"uppercase\": any(c.isupper() for c in pw),\n",
    "        \"lowercase\": any(c.islower() for c in pw),\n",
    "        \"digit\": any(c.isdigit() for c in pw),\n",
    "        \"symbol\": any(c in \"!@#$%^&*\" for c in pw),\n",
    "        \"no_space\": not any(c.isspace() for c in pw)\n",
    "    }\n",
    "    results[\"passed\"] = all(results.values())\n",
    "    return results\n",
    "\n",
    "\n",
    "def main():\n",
    "    \"\"\"Loop until a valid password is entered or user quits.\"\"\"\n",
    "    while True:\n",
    "        pw = input(\"Enter password (Q to quit): \")\n",
    "        if pw.lower() == \"q\":\n",
    "            print(\"Goodbye!\")\n",
    "            break\n",
    "\n",
    "        result = check_password(pw)\n",
    "        if result[\"passed\"]:\n",
    "            print(\"Password is valid!\\n\")\n",
    "            break\n",
    "        else:\n",
    "            print(\"Password failed these rules:\")\n",
    "            for rule, ok in result.items():\n",
    "                if rule != \"passed\" and not ok:\n",
    "                    print(f\" - {rule}\")\n",
    "            print(\"Please try again.\\n\")\n",
    "\n",
    "\n",
    "if __name__ == \"__main__\":\n",
    "    main()\n"
   ]
  },
  {
   "cell_type": "markdown",
   "id": "f9fadfdd-ce6b-4ce1-b507-b22056f21a19",
   "metadata": {},
   "source": [
    "#  Task 6. Dice Simulation (Monte Carlo). \n",
    "Write roll() -> int to simulate a fair die,\n",
    "then simulate 100,000 rolls to estimate the probability that the sum of two dice\n",
    "equals 7. Compare empirical result to the exact probability. Comment on random\n",
    "seeding and reproducibility. Anchor concepts: random module, simulation, averages.\n",
    "Reference: :contentReference[oaicite:12]index=12\n"
   ]
  },
  {
   "cell_type": "markdown",
   "id": "1121bb09-8f2d-47ad-8cb1-83209c2989e8",
   "metadata": {},
   "source": [
    " # Prompt (paste verbatim)\n",
    "Write a Python function roll() that simulates a fair six-sided die and returns an integer between 1 and 6. Then simulate 100,000 rolls of two dice to estimate the probability that their sum equals 7. Compare your empirical result to the exact probability and comment on the effect of random seeding and reproducibility. Use the random module and discuss simulation and averaging techniques."
   ]
  },
  {
   "cell_type": "markdown",
   "id": "99efb327-12b0-4aed-ab53-6d7f28de63dc",
   "metadata": {},
   "source": [
    "# ChatGPT Code"
   ]
  },
  {
   "cell_type": "code",
   "execution_count": 30,
   "id": "7514f177-6de9-44da-818b-a86e22bd1f4f",
   "metadata": {},
   "outputs": [
    {
     "name": "stdout",
     "output_type": "stream",
     "text": [
      "Estimated probability that sum equals 7: 0.16636\n"
     ]
    }
   ],
   "source": [
    "import random\n",
    "\n",
    "def roll():\n",
    "    \"\"\"Simulate rolling a fair 6-sided die.\"\"\"\n",
    "    return random.randint(1, 6)\n",
    "\n",
    "# Simulate two dice rolls 100,000 times\n",
    "count_sum_7 = 0\n",
    "for _ in range(100000):\n",
    "    if roll() + roll() == 7:\n",
    "        count_sum_7 += 1\n",
    "\n",
    "probability = count_sum_7 / 100000\n",
    "print(f\"Estimated probability that sum equals 7: {probability}\")\n"
   ]
  },
  {
   "cell_type": "markdown",
   "id": "84c03c6a-c19b-4730-8065-ea328e2abebc",
   "metadata": {},
   "source": [
    "# Critique\n",
    "\n",
    "# Correctness: \n",
    "The program correctly simulates rolling two dice 100,000 times and counts how often the sum equals 7, producing a reasonable empirical probability close to the exact probability of 1/6.\n",
    "\n",
    "    Lesson References: This code demonstrates the use of the random module from Lesson Seven – Packages to simulate randomness, and uses loops and basic arithmetic from Lesson Two – Numbers & Math to calculate averages and probability.\n",
    "\n",
    "# Limitations: \n",
    "The simulation is simple but not reproducible because it does not set a random seed. Results will differ on each run, which could be important for debugging or testing.\n",
    "\n",
    "# Error Handling: \n",
    "No input is required from the user, so the program does not currently handle any errors. However, potential improvements could include validating the number of simulations if it were user-supplied.\n",
    "\n",
    "# Faithfulness: \n",
    "The program is faithful to Monte Carlo simulation concepts but does not yet use higher-level structure like a main() function or separate functions for rolling two dice or computing probabilities.\n",
    "\n",
    "# Improvement Opportunity: \n",
    "The program could be improved by defining a main() function, adding a separate function to roll two dice, allowing the number of simulations to be input by the user, and using random.seed() for reproducibility. This would incorporate lessons on functions (Lesson Three) and modularity (Lesson Seven)."
   ]
  },
  {
   "cell_type": "markdown",
   "id": "013466a0-c843-4838-99a6-fd8bdfe77e50",
   "metadata": {},
   "source": [
    "# Improved Code"
   ]
  },
  {
   "cell_type": "code",
   "execution_count": 32,
   "id": "a6395a6f-2ecc-438d-ada2-dfa5cc5ceadf",
   "metadata": {},
   "outputs": [
    {
     "name": "stdout",
     "output_type": "stream",
     "text": [
      "Estimated probability: 0.16456\n",
      "Exact probability: 0.16666666666666666\n"
     ]
    }
   ],
   "source": [
    "import random\n",
    "\n",
    "def roll() -> int:\n",
    "    \"\"\"Simulate rolling a fair 6-sided die.\"\"\"\n",
    "    return random.randint(1, 6)\n",
    "\n",
    "def simulate_rolls(n: int, target_sum: int) -> float:\n",
    "    \"\"\"Simulate n rolls of two dice and estimate probability of target_sum.\"\"\"\n",
    "    count = 0\n",
    "    for _ in range(n):\n",
    "        if roll() + roll() == target_sum:\n",
    "            count += 1\n",
    "    return count / n\n",
    "\n",
    "def main():\n",
    "    \"\"\"Run Monte Carlo simulation for sum of two dice equals 7.\"\"\"\n",
    "    random.seed(42) \n",
    "    num_simulations = 100000\n",
    "    target_sum = 7\n",
    "    prob = simulate_rolls(num_simulations, target_sum)\n",
    "    exact_prob = 6 / 36 \n",
    "    print(f\"Estimated probability: {prob}\")\n",
    "    print(f\"Exact probability: {exact_prob}\")\n",
    "\n",
    "if __name__ == \"__main__\":\n",
    "    main()\n"
   ]
  },
  {
   "cell_type": "markdown",
   "id": "0f94f7f1-17b0-46c0-805d-f100a7872f0f",
   "metadata": {},
   "source": [
    "# Task 7. OOP: Vehicles with Odometer and Fuel. Design classes Vehicle (base),\n",
    "Car and Truck (children). Each has color, mileage, and fuel_liters. Provide\n",
    "drive(km, km_per_liter) which increments mileage and decreases fuel (never below 0) and refuel(liters). Show how inheritance avoids duplication and add\n",
    "a method override in Truck (e.g., different efficiency). Include a minimal test\n",
    "script. Anchor concepts: classes vs. instances, attributes, instance methods, inheritance/override. Reference: :contentReference[oaicite:13]index=13\n"
   ]
  },
  {
   "cell_type": "markdown",
   "id": "ac66286f-0340-4122-9770-fc4b41649b33",
   "metadata": {},
   "source": [
    "# Prompt (paste verbatim)\n",
    "Design Python classes for a vehicle system with a base class Vehicle and child classes Car and Truck. Each class should have attributes for color, mileage, and fuel in liters. Implement a drive(km, km_per_liter) method that increments mileage and decreases fuel without letting it drop below zero, and a refuel(liters) method to add fuel. Show how inheritance avoids code duplication and include a method override in Truck (for example, with different fuel efficiency). Provide a minimal test script demonstrating these features, using classes versus instances, instance attributes and methods, and inheritance/overriding."
   ]
  },
  {
   "cell_type": "markdown",
   "id": "98c6effd-719d-476c-98ed-83ca05a48bc1",
   "metadata": {},
   "source": [
    "# ChatGPT Code"
   ]
  },
  {
   "cell_type": "code",
   "execution_count": 33,
   "id": "5dab8410-61df-4d29-8157-0fe1501ed5de",
   "metadata": {},
   "outputs": [
    {
     "name": "stdout",
     "output_type": "stream",
     "text": [
      "Car mileage: 10100, fuel left: 40.0\n",
      "Truck mileage: 20100, fuel left: 67.5\n"
     ]
    }
   ],
   "source": [
    "class Vehicle:\n",
    "    def __init__(self, color, mileage, fuel_liters):\n",
    "        self.color = color\n",
    "        self.mileage = mileage\n",
    "        self.fuel_liters = fuel_liters\n",
    "\n",
    "    def drive(self, km, km_per_liter):\n",
    "        needed_fuel = km / km_per_liter\n",
    "        if needed_fuel > self.fuel_liters:\n",
    "            km = self.fuel_liters * km_per_liter\n",
    "            self.fuel_liters = 0\n",
    "        else:\n",
    "            self.fuel_liters -= needed_fuel\n",
    "        self.mileage += km\n",
    "\n",
    "    def refuel(self, liters):\n",
    "        self.fuel_liters += liters\n",
    "\n",
    "\n",
    "class Car(Vehicle):\n",
    "    pass\n",
    "\n",
    "\n",
    "class Truck(Vehicle):\n",
    "    def drive(self, km, km_per_liter):\n",
    "        # Truck uses 80% efficiency\n",
    "        km_per_liter *= 0.8\n",
    "        super().drive(km, km_per_liter)\n",
    "\n",
    "\n",
    "# Minimal test\n",
    "car = Car(\"red\", 10000, 50)\n",
    "truck = Truck(\"blue\", 20000, 80)\n",
    "\n",
    "car.drive(100, 10)\n",
    "truck.drive(100, 10)\n",
    "\n",
    "print(f\"Car mileage: {car.mileage}, fuel left: {car.fuel_liters}\")\n",
    "print(f\"Truck mileage: {truck.mileage}, fuel left: {truck.fuel_liters}\")\n"
   ]
  },
  {
   "cell_type": "markdown",
   "id": "2a4385df-ba3a-497d-8ea7-830903b68058",
   "metadata": {},
   "source": [
    "# Critique\n",
    "\n",
    "# Correctness: \n",
    "The program correctly models vehicles, updates mileage and fuel when driving, and refueling works as expected. Trucks have a modified drive method demonstrating method override.\n",
    "\n",
    "    Lesson References: \n",
    "        This code illustrates classes, instance attributes, and instance methods from Lesson Six – OOP. Inheritance is shown by Car and Truck deriving from Vehicle, and Truck overrides drive() to apply different efficiency.\n",
    "\n",
    "# Limitations: \n",
    "The Car class does not modify behavior from Vehicle, which is fine, but edge cases such as negative fuel or negative drive distances are not checked.\n",
    "\n",
    "# Error Handling: \n",
    "The code does not include type or value checks; it assumes correct numeric inputs for distances and fuel.\n",
    "\n",
    "# Faithfulness: \n",
    "This implementation demonstrates object-oriented principles faithfully, showing class definition, inheritance, instance creation, and method overriding.\n",
    "\n",
    "# Improvement Opportunity:\n",
    "The code could be improved by adding input validation, encapsulating the test script in a main() function, and possibly extending with more vehicle types or more realistic fuel efficiency rules, connecting to higher lessons on modularity and structured testing."
   ]
  },
  {
   "cell_type": "markdown",
   "id": "800fdc9e-6efc-4304-996a-6d7a32649fae",
   "metadata": {},
   "source": [
    "# Improved Code"
   ]
  },
  {
   "cell_type": "code",
   "execution_count": 34,
   "id": "9cdc53b6-75b4-45be-9809-fc750a89f90f",
   "metadata": {},
   "outputs": [
    {
     "name": "stdout",
     "output_type": "stream",
     "text": [
      "Car mileage: 10100, fuel left: 40.0\n",
      "Truck mileage: 20100, fuel left: 67.5\n"
     ]
    }
   ],
   "source": [
    "class Vehicle:\n",
    "    def __init__(self, color: str, mileage: float, fuel_liters: float):\n",
    "        self.color = color\n",
    "        self.mileage = mileage\n",
    "        self.fuel_liters = fuel_liters\n",
    "\n",
    "    def drive(self, km: float, km_per_liter: float):\n",
    "        \"\"\"Drive the vehicle, decreasing fuel and increasing mileage.\"\"\"\n",
    "        needed_fuel = km / km_per_liter\n",
    "        if needed_fuel > self.fuel_liters:\n",
    "            km = self.fuel_liters * km_per_liter\n",
    "            self.fuel_liters = 0\n",
    "        else:\n",
    "            self.fuel_liters -= needed_fuel\n",
    "        self.mileage += km\n",
    "\n",
    "    def refuel(self, liters: float):\n",
    "        \"\"\"Refuel the vehicle.\"\"\"\n",
    "        self.fuel_liters += liters\n",
    "\n",
    "\n",
    "class Car(Vehicle):\n",
    "    pass\n",
    "\n",
    "\n",
    "class Truck(Vehicle):\n",
    "    def drive(self, km: float, km_per_liter: float):\n",
    "        \"\"\"Override drive: truck is 80% as fuel-efficient.\"\"\"\n",
    "        km_per_liter *= 0.8\n",
    "        super().drive(km, km_per_liter)\n",
    "\n",
    "\n",
    "def main():\n",
    "    \"\"\"Test script for vehicles.\"\"\"\n",
    "    car = Car(\"red\", 10000, 50)\n",
    "    truck = Truck(\"blue\", 20000, 80)\n",
    "\n",
    "    car.drive(100, 10)\n",
    "    truck.drive(100, 10)\n",
    "\n",
    "    print(f\"Car mileage: {car.mileage}, fuel left: {car.fuel_liters}\")\n",
    "    print(f\"Truck mileage: {truck.mileage}, fuel left: {truck.fuel_liters}\")\n",
    "\n",
    "\n",
    "if __name__ == \"__main__\":\n",
    "    main()\n"
   ]
  },
  {
   "cell_type": "markdown",
   "id": "aca94e1f-eb03-4fde-b584-50d7d3331b7e",
   "metadata": {},
   "source": [
    "# Task 8. OOP + Composition: Kennel with Dogs. \n",
    "Using a Dog class (name, age, breed,\n",
    "bark()), implement a Kennel manager that holds multiple Dog instances, supports\n",
    "add_dog, remove_dog, oldest_dog(), and find_by_breed(breed). Compare composition vs. inheritance for this scenario. Anchor concepts: OOP design, managing\n",
    "collections of objects. Reference: :contentReference[oaicite:14]index=14\n"
   ]
  },
  {
   "cell_type": "markdown",
   "id": "6898ea89-3bef-4776-bcda-8c9f29b8b87e",
   "metadata": {},
   "source": [
    "# Prompt (paste verbatim)\n",
    "Using a Dog class with attributes name, age, breed, and a bark() method, implement a Kennel manager that holds multiple Dog instances. The Kennel should support adding and removing dogs, finding the oldest dog, and searching for dogs by breed using find_by_breed(breed). Discuss how composition is used in this scenario and compare it to inheritance. Focus on OOP design and managing collections of objects."
   ]
  },
  {
   "cell_type": "markdown",
   "id": "69d1ea05-3553-43e4-bfd3-b82083a6c9df",
   "metadata": {},
   "source": [
    "# ChatGPT Code"
   ]
  },
  {
   "cell_type": "code",
   "execution_count": 43,
   "id": "d7114757-3eda-4110-8be2-6dd6249e853e",
   "metadata": {},
   "outputs": [
    {
     "name": "stdout",
     "output_type": "stream",
     "text": [
      "Oldest dog: Bella, age 7\n",
      "Labradors: ['Rex', 'Max']\n"
     ]
    }
   ],
   "source": [
    "class Dog:\n",
    "    def __init__(self, name, age, breed):\n",
    "        self.name = name\n",
    "        self.age = age\n",
    "        self.breed = breed\n",
    "\n",
    "    def bark(self):\n",
    "        print(f\"{self.name} says: Woof!\")\n",
    "\n",
    "\n",
    "class Kennel:\n",
    "    def __init__(self):\n",
    "        self.dogs = []\n",
    "\n",
    "    def add_dog(self, dog):\n",
    "        self.dogs.append(dog)\n",
    "\n",
    "    def remove_dog(self, dog_name):\n",
    "        self.dogs = [dog for dog in self.dogs if dog.name != dog_name]\n",
    "\n",
    "    def oldest_dog(self):\n",
    "        if not self.dogs:\n",
    "            return None\n",
    "        return max(self.dogs, key=lambda d: d.age)\n",
    "\n",
    "    def find_by_breed(self, breed):\n",
    "        return [dog for dog in self.dogs if dog.breed == breed]\n",
    "\n",
    "\n",
    "# Minimal test\n",
    "dog1 = Dog(\"Rex\", 5, \"Labrador\")\n",
    "dog2 = Dog(\"Bella\", 7, \"Beagle\")\n",
    "dog3 = Dog(\"Max\", 3, \"Labrador\")\n",
    "\n",
    "kennel = Kennel()\n",
    "kennel.add_dog(dog1)\n",
    "kennel.add_dog(dog2)\n",
    "kennel.add_dog(dog3)\n",
    "\n",
    "oldest = kennel.oldest_dog()\n",
    "print(f\"Oldest dog: {oldest.name}, age {oldest.age}\")\n",
    "\n",
    "labradors = kennel.find_by_breed(\"Labrador\")\n",
    "print(f\"Labradors: {[dog.name for dog in labradors]}\")\n"
   ]
  },
  {
   "cell_type": "markdown",
   "id": "26a0d6af-ee93-47db-bd0e-3f12eda06e81",
   "metadata": {},
   "source": [
    "# Critique\n",
    "\n",
    "# Correctness: \n",
    "The program correctly manages multiple Dog instances, supports adding and removing dogs, finds the oldest dog, and can filter dogs by breed.\n",
    "\n",
    "    Lesson References: \n",
    "        This code demonstrates object-oriented design principles from Lesson Six – OOP, including class definitions, instance attributes, instance methods, and managing collections of objects using lists.\n",
    "\n",
    "# Limitations: \n",
    "The code does not handle duplicate names when removing dogs, and oldest_dog() returns None for an empty kennel without additional user feedback.\n",
    "\n",
    "# Error Handling:\n",
    "No input validation is included, so it assumes proper Dog instances are passed to the Kennel methods.\n",
    "\n",
    "# Faithfulness: \n",
    "The program illustrates composition well, showing that a Kennel contains Dog instances rather than inheriting from Dog. This makes sense because a kennel “has dogs” instead of “is a dog.”\n",
    "\n",
    "# Improvement Opportunity: \n",
    "The program could be improved by adding input validation, encapsulating tests in a main() function, and adding methods to handle edge cases like duplicate names or empty kennels. This would connect to higher lessons on functions (Lesson Three), modularity (Lesson Seven), and managing collections (Lesson Five)."
   ]
  },
  {
   "cell_type": "markdown",
   "id": "2bc51bdc-4b4c-46a9-9f0a-a0f858d89326",
   "metadata": {},
   "source": [
    "# Improved Code"
   ]
  },
  {
   "cell_type": "code",
   "execution_count": 42,
   "id": "f3022b37-32f9-4d13-bf4c-5c34003ce014",
   "metadata": {},
   "outputs": [
    {
     "name": "stdout",
     "output_type": "stream",
     "text": [
      "Oldest dog: Bella, age 7\n",
      "\n",
      "Dogs by breed:\n",
      "Poodle: ['Charlie']\n",
      "Beagle: ['Bella', 'Lucy']\n",
      "Labrador: ['Rex', 'Max']\n"
     ]
    }
   ],
   "source": [
    "class Dog:\n",
    "    def __init__(self, name: str, age: int, breed: str):\n",
    "        self.name = name\n",
    "        self.age = age\n",
    "        self.breed = breed\n",
    "\n",
    "    def bark(self):\n",
    "        print(f\"{self.name} says: Woof!\")\n",
    "\n",
    "\n",
    "class Kennel:\n",
    "    def __init__(self):\n",
    "        self.dogs = []\n",
    "\n",
    "    def add_dog(self, dog: Dog):\n",
    "        self.dogs.append(dog)\n",
    "\n",
    "    def remove_dog(self, dog_name: str):\n",
    "        self.dogs = [dog for dog in self.dogs if dog.name != dog_name]\n",
    "\n",
    "    def oldest_dog(self):\n",
    "        if not self.dogs:\n",
    "            return None\n",
    "        return max(self.dogs, key=lambda d: d.age)\n",
    "\n",
    "    def breeds(self):\n",
    "        \"\"\"Return a set of all breeds in the kennel.\"\"\"\n",
    "        return set(dog.breed for dog in self.dogs)\n",
    "\n",
    "    def find_by_breed(self, breed: str):\n",
    "        return [dog for dog in self.dogs if dog.breed == breed]\n",
    "\n",
    "\n",
    "def main():\n",
    "    \"\"\"Test script for the Kennel and Dog classes.\"\"\"\n",
    "    dog1 = Dog(\"Rex\", 5, \"Labrador\")\n",
    "    dog2 = Dog(\"Bella\", 7, \"Beagle\")\n",
    "    dog3 = Dog(\"Max\", 3, \"Labrador\")\n",
    "    dog4 = Dog(\"Lucy\", 4, \"Beagle\")\n",
    "    dog5 = Dog(\"Charlie\", 2, \"Poodle\")\n",
    "\n",
    "    kennel = Kennel()\n",
    "    for dog in [dog1, dog2, dog3, dog4, dog5]:\n",
    "        kennel.add_dog(dog)\n",
    "\n",
    "    oldest = kennel.oldest_dog()\n",
    "    if oldest:\n",
    "        print(f\"Oldest dog: {oldest.name}, age {oldest.age}\")\n",
    "\n",
    "    print(\"\\nDogs by breed:\")\n",
    "    for breed in kennel.breeds():\n",
    "        breed_dogs = kennel.find_by_breed(breed)\n",
    "        print(f\"{breed}: {[dog.name for dog in breed_dogs]}\")\n",
    "\n",
    "\n",
    "if __name__ == \"__main__\":\n",
    "    main()\n"
   ]
  },
  {
   "cell_type": "markdown",
   "id": "7410b9d3-864b-4aaf-862b-105b2879d411",
   "metadata": {},
   "source": [
    "# Task 9. Modules and Packages: Helpers. \n",
    "Create a package helpers/ with modules\n",
    "string_utils.py (function shout(s) uppercases) and math_utils.py (function area(l,w)).\n",
    "Then a main.py that imports with both import ... as ... and from ...\n",
    "import .... Explain namespace collisions and why aliases help. Anchor concepts: modules, packages, import variations, namespaces. Reference: :contentReference[oaicite:15]index=15"
   ]
  },
  {
   "cell_type": "markdown",
   "id": "0783723a-2782-42ad-a624-94feb219f627",
   "metadata": {},
   "source": [
    "# Prompt (paste verbatim)\n",
    "Create a Python package helpers/ containing the modules string_utils.py with a function shout(s) that returns the uppercase version of a string, and math_utils.py with a function area(l, w) that computes the area of a rectangle. Then create a main.py that imports these modules using both import ... as ... and from ... import ... syntax. Explain namespace collisions and why using aliases can help. Focus on modules, packages, import variations, and namespaces."
   ]
  },
  {
   "cell_type": "markdown",
   "id": "1851b7e9-b59c-41c5-9c5e-518797de4078",
   "metadata": {},
   "source": [
    "# ChatGPT Code"
   ]
  },
  {
   "cell_type": "code",
   "execution_count": 49,
   "id": "f303158e-302b-477b-999f-4641aa0f6127",
   "metadata": {},
   "outputs": [
    {
     "name": "stdout",
     "output_type": "stream",
     "text": [
      "HELLO WORLD\n",
      "15\n"
     ]
    }
   ],
   "source": [
    "# Import modules using alias to avoid potential namespace collisions\n",
    "# Importing the whole module with alias\n",
    "from helpers.string_utils import shout\n",
    "\n",
    "# Importing a specific function directly\n",
    "from helpers.math_utils import area\n",
    "\n",
    "text = \"hello world\"\n",
    "print(shout(text))\n",
    "\n",
    "length = 5\n",
    "width = 3\n",
    "print(area(length, width))\n"
   ]
  },
  {
   "cell_type": "markdown",
   "id": "238a78ab-92fc-4aae-ab80-b978a2519529",
   "metadata": {},
   "source": [
    "# Critique\n",
    "\n",
    "# Correctness: \n",
    "The program correctly implements a package with two modules and imports them in main.py. The shout function converts text to uppercase, and area calculates the area of a rectangle.\n",
    "\n",
    "    Lesson References: \n",
    "        This code demonstrates the use of packages and modules from Lesson Seven – Packages, shows both import ... as ... and from ... import ... variations, and illustrates the concept of namespaces.\n",
    "\n",
    "# Limitations: \n",
    "The code does not handle incorrect inputs, such as non-string input to shout or non-numeric input to area.\n",
    "\n",
    "# Error Handling: \n",
    "There is no error handling, so the functions assume correct input types.\n",
    "\n",
    "# Faithfulness: \n",
    "The code faithfully demonstrates modules, package structure, and import aliases, which helps avoid namespace collisions when multiple modules have functions with the same name.\n",
    "\n",
    "# Improvement Opportunity: \n",
    "The program could be improved by adding type hints, docstrings, and possibly demonstrating a scenario where namespace collisions occur to emphasize why aliases and from ... import ... are useful."
   ]
  },
  {
   "cell_type": "markdown",
   "id": "e466241d-9aa3-4b84-9187-2cb95e2841f2",
   "metadata": {},
   "source": [
    "# Improved Code"
   ]
  },
  {
   "cell_type": "code",
   "execution_count": 51,
   "id": "603d104c-aec5-493d-9482-07a1ac0fc90a",
   "metadata": {},
   "outputs": [
    {
     "name": "stdout",
     "output_type": "stream",
     "text": [
      "HELLO WORLD\n",
      "Rectangle area: 15\n"
     ]
    }
   ],
   "source": [
    "# Importing a specific function directly\n",
    "from helpers.string_utils import shout_improved as shout\n",
    "\n",
    "# Importing a specific function directly\n",
    "from helpers.math_utils import area_improved as area_rec\n",
    "def main():\n",
    "    \"\"\"Demonstrate usage of helper modules.\"\"\"\n",
    "    text = \"hello world\"\n",
    "    print(shout(text))\n",
    "\n",
    "    length = 5\n",
    "    width = 3\n",
    "    print(f\"Rectangle area: {area_rec(length, width)}\")\n",
    "\n",
    "if __name__ == \"__main__\":\n",
    "    main()"
   ]
  },
  {
   "cell_type": "markdown",
   "id": "fc1e8ef0-c897-4813-aa47-1b997e56586c",
   "metadata": {},
   "source": [
    "# Task 10.  Robust Temperature Converter (Functions + Exceptions). \n",
    "Write two functions: cel_to_far(c) and far_to_cel(f) with type hints and docstrings. Build a\n",
    "CLI that asks the user which direction to convert and validates input (gracefully\n",
    "handles bad entries). Include unit tests (doctest or simple asserts) covering typical\n",
    "3\n",
    "and edge cases (e.g., -40). Anchor concepts: writing functions, control flow, input\n",
    "handling, testing.\n"
   ]
  },
  {
   "cell_type": "markdown",
   "id": "c8ed9dde-826c-4752-8ae9-07f0a2454911",
   "metadata": {},
   "source": [
    "# Prompt (paste verbatim)\n",
    "Write two Python functions, cel_to_far(c) and far_to_cel(f), with type hints and docstrings that convert temperatures between Celsius and Fahrenheit. Build a CLI that asks the user which direction to convert and validates input, handling bad entries gracefully. Include unit tests using either doctest or simple assert statements that cover typical and edge cases (for example, -40). Focus on writing functions, control flow, input handling, and testing."
   ]
  },
  {
   "cell_type": "markdown",
   "id": "9cc973b1-3e80-4875-9259-c802e5923c5f",
   "metadata": {},
   "source": [
    "# ChatGPT Code"
   ]
  },
  {
   "cell_type": "code",
   "execution_count": 55,
   "id": "05cac0e1-8760-43ff-9965-bac69e1cacb7",
   "metadata": {},
   "outputs": [
    {
     "name": "stdin",
     "output_type": "stream",
     "text": [
      "Convert to Celsius or Fahrenheit? (C/F):  c\n",
      "Enter Fahrenheit:  32\n"
     ]
    },
    {
     "name": "stdout",
     "output_type": "stream",
     "text": [
      "32.0°F is 0.00°C\n"
     ]
    }
   ],
   "source": [
    "def cel_to_far(c):\n",
    "    return c * 9/5 + 32\n",
    "\n",
    "def far_to_cel(f):\n",
    "    return (f - 32) * 5/9\n",
    "\n",
    "direction = input(\"Convert to Celsius or Fahrenheit? (C/F): \").strip().upper()\n",
    "\n",
    "if direction == \"C\":\n",
    "    f = float(input(\"Enter Fahrenheit: \"))\n",
    "    print(f\"{f}°F is {far_to_cel(f):.2f}°C\")\n",
    "elif direction == \"F\":\n",
    "    c = float(input(\"Enter Celsius: \"))\n",
    "    print(f\"{c}°C is {cel_to_far(c):.2f}°F\")\n",
    "else:\n",
    "    print(\"Invalid choice\")\n"
   ]
  },
  {
   "cell_type": "markdown",
   "id": "2b847858-9a68-494c-ad9d-107bbbd0619d",
   "metadata": {},
   "source": [
    "# Critique\n",
    "\n",
    "# Correctness: \n",
    "The program correctly converts temperatures in both directions and prints the results formatted to two decimal places.\n",
    "\n",
    "    Lesson References: \n",
    "        This code demonstrates function definitions from Lesson Three – Functions and Loops, input handling with input() and float() conversions, and conditional control flow from Lesson Four – Conditionals.\n",
    "\n",
    "# Limitations: \n",
    "The program does not handle invalid numeric inputs, so entering text instead of a number would raise a ValueError. Edge cases, like negative temperatures or very large values, are not explicitly tested.\n",
    "\n",
    "# Error Handling: \n",
    "Only invalid direction choices are handled; the numeric inputs are assumed valid, which could cause runtime errors.\n",
    "\n",
    "# Faithfulness: \n",
    "The implementation uses functions and basic control flow correctly but lacks modularity, type hints, docstrings, and automated testing that were requested in the prompt.\n",
    "\n",
    "# Improvement Opportunity: \n",
    "The code could be improved by adding type hints, docstrings, exception handling for numeric input, a main() function for CLI structure, and simple tests using assert to cover typical and edge cases."
   ]
  },
  {
   "cell_type": "markdown",
   "id": "69376f8e-9994-4738-ada8-d937bb7a4003",
   "metadata": {},
   "source": [
    "# Improved Code"
   ]
  },
  {
   "cell_type": "code",
   "execution_count": 56,
   "id": "bd65ab00-4229-4bd8-b12d-ed9e99d1811b",
   "metadata": {},
   "outputs": [
    {
     "name": "stdin",
     "output_type": "stream",
     "text": [
      "Convert to Celsius or Fahrenheit? (C/F, Q to quit):  f\n",
      "Enter Celsius:  213.21\n"
     ]
    },
    {
     "name": "stdout",
     "output_type": "stream",
     "text": [
      "213.21°C is 415.78°F\n",
      "\n"
     ]
    },
    {
     "name": "stdin",
     "output_type": "stream",
     "text": [
      "Convert to Celsius or Fahrenheit? (C/F, Q to quit):  q\n"
     ]
    },
    {
     "name": "stdout",
     "output_type": "stream",
     "text": [
      "Goodbye!\n"
     ]
    }
   ],
   "source": [
    "def cel_to_far(c: float) -> float:\n",
    "    \"\"\"Convert Celsius to Fahrenheit.\"\"\"\n",
    "    return c * 9 / 5 + 32\n",
    "\n",
    "def far_to_cel(f: float) -> float:\n",
    "    \"\"\"Convert Fahrenheit to Celsius.\"\"\"\n",
    "    return (f - 32) * 5 / 9\n",
    "\n",
    "def main():\n",
    "    \"\"\"CLI for converting temperatures between Celsius and Fahrenheit.\"\"\"\n",
    "    while True:\n",
    "        direction = input(\"Convert to Celsius or Fahrenheit? (C/F, Q to quit): \").strip().upper()\n",
    "        if direction == \"Q\":\n",
    "            print(\"Goodbye!\")\n",
    "            break\n",
    "\n",
    "        try:\n",
    "            if direction == \"C\":\n",
    "                f = float(input(\"Enter Fahrenheit: \"))\n",
    "                print(f\"{f}°F is {far_to_cel(f):.2f}°C\\n\")\n",
    "            elif direction == \"F\":\n",
    "                c = float(input(\"Enter Celsius: \"))\n",
    "                print(f\"{c}°C is {cel_to_far(c):.2f}°F\\n\")\n",
    "            else:\n",
    "                print(\"Invalid choice. Please enter C, F, or Q.\\n\")\n",
    "        except ValueError:\n",
    "            print(\"Invalid number. Please enter a valid numeric value.\\n\")\n",
    "\n",
    "\n",
    "if __name__ == \"__main__\":\n",
    "    main()\n",
    "\n",
    "# Simple tests\n",
    "assert cel_to_far(0) == 32\n",
    "assert cel_to_far(-40) == -40\n",
    "assert far_to_cel(32) == 0\n",
    "assert far_to_cel(-40) == -40\n",
    "assert round(cel_to_far(100), 2) == 212.00\n",
    "assert round(far_to_cel(212), 2) == 100.00\n"
   ]
  },
  {
   "cell_type": "code",
   "execution_count": null,
   "id": "0ae45b6b-60aa-48cb-98ec-d0b25e6fddfa",
   "metadata": {},
   "outputs": [],
   "source": []
  }
 ],
 "metadata": {
  "kernelspec": {
   "display_name": "Python [conda env:base] *",
   "language": "python",
   "name": "conda-base-py"
  },
  "language_info": {
   "codemirror_mode": {
    "name": "ipython",
    "version": 3
   },
   "file_extension": ".py",
   "mimetype": "text/x-python",
   "name": "python",
   "nbconvert_exporter": "python",
   "pygments_lexer": "ipython3",
   "version": "3.13.5"
  }
 },
 "nbformat": 4,
 "nbformat_minor": 5
}
