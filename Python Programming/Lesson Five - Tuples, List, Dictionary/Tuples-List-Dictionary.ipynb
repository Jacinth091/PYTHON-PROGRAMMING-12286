{
 "cells": [
  {
   "cell_type": "markdown",
   "id": "4f77c60a-54b6-4e64-a07f-e327cd45bdb5",
   "metadata": {},
   "source": [
    "# Rewview Question # 1\n",
    "___"
   ]
  },
  {
   "cell_type": "code",
   "execution_count": 1,
   "id": "d9285638-245b-4c60-89f5-15a510297eb8",
   "metadata": {},
   "outputs": [
    {
     "name": "stdout",
     "output_type": "stream",
     "text": [
      "('FIRST', 'SECOND', 'THIRD')\n"
     ]
    }
   ],
   "source": [
    "cardinal_numbers = (\"FIRST\", \"SECOND\", \"THIRD\")\n",
    "print(cardinal_numbers)"
   ]
  },
  {
   "cell_type": "code",
   "execution_count": 2,
   "id": "22371a46-057a-4a27-969a-360053ee6a1d",
   "metadata": {},
   "outputs": [
    {
     "name": "stdout",
     "output_type": "stream",
     "text": [
      "SECOND\n"
     ]
    }
   ],
   "source": [
    "print(cardinal_numbers[1])"
   ]
  },
  {
   "cell_type": "code",
   "execution_count": 4,
   "id": "4251ecc2-ff82-45a6-b748-7f0f1f85bb9e",
   "metadata": {},
   "outputs": [
    {
     "name": "stdout",
     "output_type": "stream",
     "text": [
      "FIRST\n",
      "SECOND\n",
      "THIRD\n"
     ]
    }
   ],
   "source": [
    "position1, position2, position3 = cardinal_numbers\n",
    "print(position1)\n",
    "print(position2)\n",
    "print(position3)"
   ]
  },
  {
   "cell_type": "code",
   "execution_count": 33,
   "id": "4f2eb4f5-d4a3-4612-b2a7-0fd19171724d",
   "metadata": {},
   "outputs": [
    {
     "name": "stdout",
     "output_type": "stream",
     "text": [
      "('J', 'a', 'c', 'i', 'n', 't', 'h')\n"
     ]
    }
   ],
   "source": [
    "my_name = tuple(\"Jacinth\")\n",
    "print(my_name)"
   ]
  },
  {
   "cell_type": "code",
   "execution_count": 7,
   "id": "da9c8a53-1183-4f19-9b09-4bccff272c2b",
   "metadata": {},
   "outputs": [
    {
     "name": "stdout",
     "output_type": "stream",
     "text": [
      "False\n"
     ]
    }
   ],
   "source": [
    "print('x' in my_name)"
   ]
  },
  {
   "cell_type": "code",
   "execution_count": 34,
   "id": "0fcf9822-7f2d-4aed-afe5-984fcf94e332",
   "metadata": {},
   "outputs": [
    {
     "name": "stdout",
     "output_type": "stream",
     "text": [
      "('a', 'c', 'i', 'n', 't', 'h')\n"
     ]
    }
   ],
   "source": [
    "first_letter_in_my_name = tuple(my_name[1::])\n",
    "print(first_letter_in_my_name)"
   ]
  },
  {
   "cell_type": "markdown",
   "id": "90bb4b8b-6990-4ae6-a28a-16f995b6c7ce",
   "metadata": {},
   "source": [
    "# Review Questions # 2\n",
    "___"
   ]
  },
  {
   "cell_type": "code",
   "execution_count": 23,
   "id": "2aa3a538-e7c9-4811-a12b-f9319da15724",
   "metadata": {},
   "outputs": [
    {
     "name": "stdout",
     "output_type": "stream",
     "text": [
      "['Rice', 'Beans']\n"
     ]
    }
   ],
   "source": [
    "food = [\"Rice\", \"Beans\"]\n",
    "print(food)"
   ]
  },
  {
   "cell_type": "code",
   "execution_count": 24,
   "id": "d47668e7-f945-4dbe-bd70-aabba1b5fc2e",
   "metadata": {},
   "outputs": [
    {
     "name": "stdout",
     "output_type": "stream",
     "text": [
      "['Rice', 'Beans', 'Brocoli']\n"
     ]
    }
   ],
   "source": [
    "food.append(\"Brocoli\")\n",
    "print(food)"
   ]
  },
  {
   "cell_type": "code",
   "execution_count": 25,
   "id": "c04198f3-402e-43d0-a6f0-3f4ea8821e9c",
   "metadata": {},
   "outputs": [
    {
     "name": "stdout",
     "output_type": "stream",
     "text": [
      "['Rice', 'Beans', 'Brocoli', 'Bread', 'Pizza']\n"
     ]
    }
   ],
   "source": [
    "food.extend(['Bread', 'Pizza'])\n",
    "print(food)"
   ]
  },
  {
   "cell_type": "code",
   "execution_count": 28,
   "id": "dbf5962a-b74f-4298-9188-41e5d9e7c715",
   "metadata": {},
   "outputs": [
    {
     "name": "stdout",
     "output_type": "stream",
     "text": [
      "['Rice', 'Beans']\n"
     ]
    }
   ],
   "source": [
    "first_two_food=food[0:2]\n",
    "print(first_two_food)"
   ]
  },
  {
   "cell_type": "code",
   "execution_count": 29,
   "id": "a30bc261-a06d-4f14-a029-1f27f8b27ca0",
   "metadata": {},
   "outputs": [
    {
     "name": "stdout",
     "output_type": "stream",
     "text": [
      "Pizza\n"
     ]
    }
   ],
   "source": [
    "last_item = food[len(food)-1]\n",
    "print(last_item)"
   ]
  },
  {
   "cell_type": "code",
   "execution_count": 30,
   "id": "faac9fb7-c1cc-443b-89ca-4593277e4ecc",
   "metadata": {},
   "outputs": [
    {
     "name": "stdout",
     "output_type": "stream",
     "text": [
      "['Eggs', 'Fruit', 'Orange Juice']\n"
     ]
    }
   ],
   "source": [
    "str_ = \"Eggs, Fruit, Orange Juice\"\n",
    "breakfast = str_.split(', ')\n",
    "print(breakfast)"
   ]
  },
  {
   "cell_type": "code",
   "execution_count": 31,
   "id": "53352d48-27a6-4a12-8756-b590136a24e5",
   "metadata": {},
   "outputs": [
    {
     "name": "stdout",
     "output_type": "stream",
     "text": [
      "3\n"
     ]
    }
   ],
   "source": [
    "print(len(breakfast))"
   ]
  },
  {
   "cell_type": "code",
   "execution_count": 32,
   "id": "1a65fc29-e01b-401a-867a-aa48f9240830",
   "metadata": {},
   "outputs": [
    {
     "name": "stdout",
     "output_type": "stream",
     "text": [
      "[4, 5, 12]\n"
     ]
    }
   ],
   "source": [
    "lengths = [len(value) for value in breakfast]\n",
    "print(lengths)"
   ]
  },
  {
   "cell_type": "markdown",
   "id": "985c917f-032f-4d25-b529-699705ee4e00",
   "metadata": {},
   "source": [
    "# Review Questions # 3\n",
    "___"
   ]
  },
  {
   "cell_type": "code",
   "execution_count": 35,
   "id": "f2a2bd90-9411-4f9b-b5ba-73851e3243dd",
   "metadata": {},
   "outputs": [
    {
     "name": "stdout",
     "output_type": "stream",
     "text": [
      "((1, 2), (3, 4))\n"
     ]
    }
   ],
   "source": [
    "tuple_data = ((1,2), (3,4))\n",
    "print(tuple_data)\n"
   ]
  },
  {
   "cell_type": "code",
   "execution_count": 68,
   "id": "bfc70158-5106-456d-8748-50e8fff2a8a9",
   "metadata": {
    "scrolled": true
   },
   "outputs": [
    {
     "name": "stdout",
     "output_type": "stream",
     "text": [
      "Row: 1, Sum: 3\n",
      "Row: 2, Sum: 7\n"
     ]
    }
   ],
   "source": [
    "for row in range(len(tuple_data)):\n",
    "    sum = 0\n",
    "    for value in tuple_data[row]:\n",
    "        sum += value\n",
    "    print(f\"Row: {row+1}, Sum: {sum}\") "
   ]
  },
  {
   "cell_type": "code",
   "execution_count": null,
   "id": "38e7b93c-3812-478c-acd0-1dba9c100a7a",
   "metadata": {},
   "outputs": [],
   "source": []
  }
 ],
 "metadata": {
  "kernelspec": {
   "display_name": "Python 3 (ipykernel)",
   "language": "python",
   "name": "python3"
  },
  "language_info": {
   "codemirror_mode": {
    "name": "ipython",
    "version": 3
   },
   "file_extension": ".py",
   "mimetype": "text/x-python",
   "name": "python",
   "nbconvert_exporter": "python",
   "pygments_lexer": "ipython3",
   "version": "3.13.5"
  }
 },
 "nbformat": 4,
 "nbformat_minor": 5
}
