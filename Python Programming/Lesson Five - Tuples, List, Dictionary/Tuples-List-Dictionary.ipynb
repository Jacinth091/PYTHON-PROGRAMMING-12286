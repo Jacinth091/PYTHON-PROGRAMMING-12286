{
 "cells": [
  {
   "cell_type": "markdown",
   "id": "4f77c60a-54b6-4e64-a07f-e327cd45bdb5",
   "metadata": {},
   "source": [
    "# Rewview Question # 1\n",
    "___"
   ]
  },
  {
   "cell_type": "code",
   "execution_count": 1,
   "id": "d9285638-245b-4c60-89f5-15a510297eb8",
   "metadata": {},
   "outputs": [
    {
     "name": "stdout",
     "output_type": "stream",
     "text": [
      "('FIRST', 'SECOND', 'THIRD')\n"
     ]
    }
   ],
   "source": [
    "cardinal_numbers = (\"FIRST\", \"SECOND\", \"THIRD\")\n",
    "print(cardinal_numbers)"
   ]
  },
  {
   "cell_type": "code",
   "execution_count": 2,
   "id": "22371a46-057a-4a27-969a-360053ee6a1d",
   "metadata": {},
   "outputs": [
    {
     "name": "stdout",
     "output_type": "stream",
     "text": [
      "SECOND\n"
     ]
    }
   ],
   "source": [
    "print(cardinal_numbers[1])"
   ]
  },
  {
   "cell_type": "code",
   "execution_count": 4,
   "id": "4251ecc2-ff82-45a6-b748-7f0f1f85bb9e",
   "metadata": {},
   "outputs": [
    {
     "name": "stdout",
     "output_type": "stream",
     "text": [
      "FIRST\n",
      "SECOND\n",
      "THIRD\n"
     ]
    }
   ],
   "source": [
    "position1, position2, position3 = cardinal_numbers\n",
    "print(position1)\n",
    "print(position2)\n",
    "print(position3)"
   ]
  },
  {
   "cell_type": "code",
   "execution_count": 33,
   "id": "4f2eb4f5-d4a3-4612-b2a7-0fd19171724d",
   "metadata": {},
   "outputs": [
    {
     "name": "stdout",
     "output_type": "stream",
     "text": [
      "('J', 'a', 'c', 'i', 'n', 't', 'h')\n"
     ]
    }
   ],
   "source": [
    "my_name = tuple(\"Jacinth\")\n",
    "print(my_name)"
   ]
  },
  {
   "cell_type": "code",
   "execution_count": 7,
   "id": "da9c8a53-1183-4f19-9b09-4bccff272c2b",
   "metadata": {},
   "outputs": [
    {
     "name": "stdout",
     "output_type": "stream",
     "text": [
      "False\n"
     ]
    }
   ],
   "source": [
    "print('x' in my_name)"
   ]
  },
  {
   "cell_type": "code",
   "execution_count": 34,
   "id": "0fcf9822-7f2d-4aed-afe5-984fcf94e332",
   "metadata": {},
   "outputs": [
    {
     "name": "stdout",
     "output_type": "stream",
     "text": [
      "('a', 'c', 'i', 'n', 't', 'h')\n"
     ]
    }
   ],
   "source": [
    "first_letter_in_my_name = tuple(my_name[1::])\n",
    "print(first_letter_in_my_name)"
   ]
  },
  {
   "cell_type": "markdown",
   "id": "90bb4b8b-6990-4ae6-a28a-16f995b6c7ce",
   "metadata": {},
   "source": [
    "# Review Questions # 2\n",
    "___"
   ]
  },
  {
   "cell_type": "code",
   "execution_count": 23,
   "id": "2aa3a538-e7c9-4811-a12b-f9319da15724",
   "metadata": {},
   "outputs": [
    {
     "name": "stdout",
     "output_type": "stream",
     "text": [
      "['Rice', 'Beans']\n"
     ]
    }
   ],
   "source": [
    "food = [\"Rice\", \"Beans\"]\n",
    "print(food)"
   ]
  },
  {
   "cell_type": "code",
   "execution_count": 24,
   "id": "d47668e7-f945-4dbe-bd70-aabba1b5fc2e",
   "metadata": {},
   "outputs": [
    {
     "name": "stdout",
     "output_type": "stream",
     "text": [
      "['Rice', 'Beans', 'Brocoli']\n"
     ]
    }
   ],
   "source": [
    "food.append(\"Brocoli\")\n",
    "print(food)"
   ]
  },
  {
   "cell_type": "code",
   "execution_count": 25,
   "id": "c04198f3-402e-43d0-a6f0-3f4ea8821e9c",
   "metadata": {},
   "outputs": [
    {
     "name": "stdout",
     "output_type": "stream",
     "text": [
      "['Rice', 'Beans', 'Brocoli', 'Bread', 'Pizza']\n"
     ]
    }
   ],
   "source": [
    "food.extend(['Bread', 'Pizza'])\n",
    "print(food)"
   ]
  },
  {
   "cell_type": "code",
   "execution_count": 28,
   "id": "dbf5962a-b74f-4298-9188-41e5d9e7c715",
   "metadata": {},
   "outputs": [
    {
     "name": "stdout",
     "output_type": "stream",
     "text": [
      "['Rice', 'Beans']\n"
     ]
    }
   ],
   "source": [
    "first_two_food=food[0:2]\n",
    "print(first_two_food)"
   ]
  },
  {
   "cell_type": "code",
   "execution_count": 29,
   "id": "a30bc261-a06d-4f14-a029-1f27f8b27ca0",
   "metadata": {},
   "outputs": [
    {
     "name": "stdout",
     "output_type": "stream",
     "text": [
      "Pizza\n"
     ]
    }
   ],
   "source": [
    "last_item = food[len(food)-1]\n",
    "print(last_item)"
   ]
  },
  {
   "cell_type": "code",
   "execution_count": 30,
   "id": "faac9fb7-c1cc-443b-89ca-4593277e4ecc",
   "metadata": {},
   "outputs": [
    {
     "name": "stdout",
     "output_type": "stream",
     "text": [
      "['Eggs', 'Fruit', 'Orange Juice']\n"
     ]
    }
   ],
   "source": [
    "str_ = \"Eggs, Fruit, Orange Juice\"\n",
    "breakfast = str_.split(', ')\n",
    "print(breakfast)"
   ]
  },
  {
   "cell_type": "code",
   "execution_count": 31,
   "id": "53352d48-27a6-4a12-8756-b590136a24e5",
   "metadata": {},
   "outputs": [
    {
     "name": "stdout",
     "output_type": "stream",
     "text": [
      "3\n"
     ]
    }
   ],
   "source": [
    "print(len(breakfast))"
   ]
  },
  {
   "cell_type": "code",
   "execution_count": 32,
   "id": "1a65fc29-e01b-401a-867a-aa48f9240830",
   "metadata": {},
   "outputs": [
    {
     "name": "stdout",
     "output_type": "stream",
     "text": [
      "[4, 5, 12]\n"
     ]
    }
   ],
   "source": [
    "lengths = [len(value) for value in breakfast]\n",
    "print(lengths)"
   ]
  },
  {
   "cell_type": "markdown",
   "id": "985c917f-032f-4d25-b529-699705ee4e00",
   "metadata": {},
   "source": [
    "# Review Questions # 3\n",
    "___"
   ]
  },
  {
   "cell_type": "code",
   "execution_count": 35,
   "id": "f2a2bd90-9411-4f9b-b5ba-73851e3243dd",
   "metadata": {},
   "outputs": [
    {
     "name": "stdout",
     "output_type": "stream",
     "text": [
      "((1, 2), (3, 4))\n"
     ]
    }
   ],
   "source": [
    "tuple_data = ((1,2), (3,4))\n",
    "print(tuple_data)\n"
   ]
  },
  {
   "cell_type": "code",
   "execution_count": 68,
   "id": "bfc70158-5106-456d-8748-50e8fff2a8a9",
   "metadata": {
    "scrolled": true
   },
   "outputs": [
    {
     "name": "stdout",
     "output_type": "stream",
     "text": [
      "Row: 1, Sum: 3\n",
      "Row: 2, Sum: 7\n"
     ]
    }
   ],
   "source": [
    "for row in range(len(tuple_data)):\n",
    "    sum = 0\n",
    "    for value in tuple_data[row]:\n",
    "        sum += value\n",
    "    print(f\"Row: {row+1}, Sum: {sum}\") "
   ]
  },
  {
   "cell_type": "code",
   "execution_count": 4,
   "id": "38e7b93c-3812-478c-acd0-1dba9c100a7a",
   "metadata": {},
   "outputs": [
    {
     "name": "stdout",
     "output_type": "stream",
     "text": [
      "[5, 2, 7, 5, 6, 7]\n"
     ]
    }
   ],
   "source": [
    "number_list = [5,2,7,5,6,7]\n",
    "numbers = number_list[:]\n",
    "print(numbers)"
   ]
  },
  {
   "cell_type": "code",
   "execution_count": 5,
   "id": "90a7c62b-c3c1-458b-9e23-1652c84b3878",
   "metadata": {},
   "outputs": [
    {
     "name": "stdout",
     "output_type": "stream",
     "text": [
      "[2, 5, 5, 6, 7, 7]\n"
     ]
    }
   ],
   "source": [
    "number_list.sort()\n",
    "print(number_list)"
   ]
  },
  {
   "cell_type": "markdown",
   "id": "bfe8d9d4-8055-4374-8774-3b41a42cc99b",
   "metadata": {},
   "source": [
    "# Challenge Question #1\n",
    "____"
   ]
  },
  {
   "cell_type": "code",
   "execution_count": 6,
   "id": "64273fba-7d28-4c5a-8e01-9453afe6f428",
   "metadata": {},
   "outputs": [
    {
     "name": "stdout",
     "output_type": "stream",
     "text": [
      "[['California Institute of Technology', 2175, 37704], ['Harvard', 19627, 39849], ['Massachusetts Institute of Technology', 10566, 40732], ['Princeton', 7802, 37000], ['Rice', 5879, 35551], ['Stanford', 19535, 40569], ['Yale', 11701, 40500]]\n"
     ]
    }
   ],
   "source": [
    "universities = [\n",
    "    ['California Institute of Technology', 2175, 37704],\n",
    "    ['Harvard', 19627, 39849],\n",
    "    ['Massachusetts Institute of Technology', 10566, 40732],\n",
    "    ['Princeton', 7802, 37000],\n",
    "    ['Rice', 5879, 35551],\n",
    "    ['Stanford', 19535, 40569],\n",
    "    ['Yale', 11701, 40500]\n",
    "]\n",
    "print(universities)"
   ]
  },
  {
   "cell_type": "markdown",
   "id": "961d3a4b-7723-40e0-b4fc-e26f7cc633ea",
   "metadata": {},
   "source": [
    "# Challenge Question # 2\n",
    "___"
   ]
  },
  {
   "cell_type": "code",
   "execution_count": 10,
   "id": "ea6dca74-feae-4c59-81db-dd03e8c8b548",
   "metadata": {},
   "outputs": [
    {
     "name": "stdout",
     "output_type": "stream",
     "text": [
      "['FOSSIL', 'HORSE', 'AARDVARK', 'JUDGE', 'CHEF', 'MANGO', 'EXTROVERT', 'GORILLA']\n",
      "['KICKS', 'JINGLES', 'BOUNCES', 'SLURPS', 'MEOWS', 'EXPLODES', 'CURDLES']\n",
      "['FURRY', 'BALDING', 'INCREDULOUS', 'FRAGRANT', 'EXUBERANT', 'GLISTENING']\n",
      "['AGAINST', 'AFTER', 'INTO', 'BENEATH', 'UPON', 'FOR', 'INLIKE', 'OVER', 'WITHIN']\n",
      "['CURIOUSLY', 'FURIOUSLY', 'SENSUOUSLY', 'EXTRAVAGANTLY', 'TANTALIZINGLY']\n"
     ]
    }
   ],
   "source": [
    "NOUNS = [\"FOSSIL\", \"HORSE\", \"AARDVARK\", \"JUDGE\", \"CHEF\", \"MANGO\",\"EXTROVERT\", \"GORILLA\"]\n",
    "VERBS = [\"KICKS\", \"JINGLES\", \"BOUNCES\", \"SLURPS\", \"MEOWS\", \"EXPLODES\", \"CURDLES\"]\n",
    "ADJECTIVES = [\"FURRY\", \"BALDING\", \"INCREDULOUS\", \"FRAGRANT\", \"EXUBERANT\", \"GLISTENING\"]\n",
    "PREPOSITIONS =[\"AGAINST\", \"AFTER\", \"INTO\", \"BENEATH\", \"UPON\", \"FOR\", \"IN\" \"LIKE\", \"OVER\", \"WITHIN\"]\n",
    "ADVERBS = [\"CURIOUSLY\", \"FURIOUSLY\", \"SENSUOUSLY\", \"EXTRAVAGANTLY\", \"TANTALIZINGLY\"]\n",
    "print(NOUNS)\n",
    "print(VERBS)\n",
    "print(ADJECTIVES)\n",
    "print(PREPOSITIONS)\n",
    "print(ADVERBS)"
   ]
  },
  {
   "cell_type": "markdown",
   "id": "f979be97-cd1c-4a78-84b4-6a6014b629d5",
   "metadata": {},
   "source": [
    "# Review Question # 5\n",
    "____"
   ]
  },
  {
   "cell_type": "code",
   "execution_count": 11,
   "id": "f20658e5-c9ba-4819-8424-b83243003b01",
   "metadata": {},
   "outputs": [
    {
     "name": "stdout",
     "output_type": "stream",
     "text": [
      "{}\n"
     ]
    }
   ],
   "source": [
    "captains = {}\n",
    "print(captains)"
   ]
  },
  {
   "cell_type": "code",
   "execution_count": 15,
   "id": "0f3c431a-e5f1-4cd3-84bd-d5ae6ca3712b",
   "metadata": {},
   "outputs": [
    {
     "name": "stdout",
     "output_type": "stream",
     "text": [
      " 'Enterprise' : 'Picard' \n",
      " 'Voyager' : 'Janeway' \n",
      " 'Defiant' : 'Sisko' \n"
     ]
    }
   ],
   "source": [
    "captains['Enterprise'] = \"Picard\"\n",
    "captains[\"Voyager\"] = \"Janeway\"\n",
    "captains[\"Defiant\"] = \"Sisko\"\n",
    "for keys in captains:\n",
    "    print(f\" '{keys}' : '{captains[keys]}' \")"
   ]
  },
  {
   "cell_type": "code",
   "execution_count": 17,
   "id": "33357d0a-6eca-4d1b-b06b-255097f1e2d2",
   "metadata": {},
   "outputs": [
    {
     "name": "stdout",
     "output_type": "stream",
     "text": [
      " 'Enterprise' : 'Picard' \n",
      " 'Voyager' : 'Janeway' \n",
      " 'Defiant' : 'Sisko' \n",
      " 'Discovery' : 'Uknown' \n"
     ]
    }
   ],
   "source": [
    "if not (\"Enterprise\" in captains):\n",
    "    captaisn['Enterprise'] = 'Uknown'\n",
    "if not (\"Discovery\" in captains):\n",
    "    captains['Discovery'] = 'Uknown'\n",
    "for keys in captains:\n",
    "    print(f\" '{keys}' : '{captains[keys]}' \")"
   ]
  },
  {
   "cell_type": "code",
   "execution_count": 18,
   "id": "8a4fdfb0-6937-4f6f-9bd6-98a4938d1f10",
   "metadata": {},
   "outputs": [
    {
     "name": "stdout",
     "output_type": "stream",
     "text": [
      " The Enterprise is captained by 'Picard' \n",
      " The Voyager is captained by 'Janeway' \n",
      " The Defiant is captained by 'Sisko' \n",
      " The Discovery is captained by 'Uknown' \n"
     ]
    }
   ],
   "source": [
    "for keys in captains:\n",
    "    print(f\" The {keys} is captained by '{captains[keys]}' \")"
   ]
  },
  {
   "cell_type": "code",
   "execution_count": 19,
   "id": "cd067cdf-6153-4b9c-a6df-7c281f41a035",
   "metadata": {},
   "outputs": [
    {
     "name": "stdout",
     "output_type": "stream",
     "text": [
      " 'Enterprise' : 'Picard' \n",
      " 'Voyager' : 'Janeway' \n",
      " 'Defiant' : 'Sisko' \n"
     ]
    }
   ],
   "source": [
    "del captains['Discovery']\n",
    "for keys in captains:\n",
    "    print(f\" '{keys}' : '{captains[keys]}' \")"
   ]
  },
  {
   "cell_type": "code",
   "execution_count": 29,
   "id": "0448d482-dfde-4b3e-8485-af00c066f196",
   "metadata": {},
   "outputs": [
    {
     "name": "stdout",
     "output_type": "stream",
     "text": [
      " 'Enterprise' : 'Picard' \n",
      " 'Voyager' : 'Janeway' \n",
      " 'Defiant' : 'Sisko' \n"
     ]
    }
   ],
   "source": [
    "key_value_pair = (\n",
    " ('Enterprise','Picard'), \n",
    " ('Voyager','Janeway'), \n",
    " ('Defiant','Sisko' ),\n",
    ")\n",
    "captains_new = dict(key_value_pair)\n",
    "for keys in captains_new:\n",
    "    print(f\" '{keys}' : '{captains_new[keys]}' \")"
   ]
  },
  {
   "cell_type": "code",
   "execution_count": 30,
   "id": "de26df49-f07e-4b6f-8689-a524c08bead7",
   "metadata": {},
   "outputs": [
    {
     "name": "stdout",
     "output_type": "stream",
     "text": [
      " 'Alabama' : 'Montgomery' \n",
      " 'Alaska' : 'Juneau' \n",
      " 'Arizona' : 'Phoenix' \n",
      " 'Arkansas' : 'Little Rock' \n",
      " 'California' : 'Sacramento' \n",
      " 'Colorado' : 'Denver' \n",
      " 'Connecticut' : 'Hartford' \n",
      " 'Delaware' : 'Dover' \n",
      " 'Florida' : 'Tallahassee' \n",
      " 'Georgia' : 'Atlanta' \n"
     ]
    }
   ],
   "source": [
    "capitals_dict = {\n",
    "    'Alabama': 'Montgomery',\n",
    "    'Alaska': 'Juneau',\n",
    "    'Arizona': 'Phoenix',\n",
    "    'Arkansas': 'Little Rock',\n",
    "    'California': 'Sacramento',\n",
    "    'Colorado': 'Denver',\n",
    "    'Connecticut': 'Hartford',\n",
    "    'Delaware': 'Dover',\n",
    "    'Florida': 'Tallahassee',\n",
    "    'Georgia': 'Atlanta'\n",
    "}\n",
    "for keys in capitals_dict:\n",
    "    print(f\" '{keys}' : '{capitals_dict[keys]}' \")\n",
    "    "
   ]
  },
  {
   "cell_type": "code",
   "execution_count": null,
   "id": "15730091-7366-403b-863a-8ee64da3a7ec",
   "metadata": {},
   "outputs": [],
   "source": []
  },
  {
   "cell_type": "code",
   "execution_count": null,
   "id": "d4b92633-c131-4c93-9905-0d6bbe16c7ac",
   "metadata": {},
   "outputs": [],
   "source": []
  }
 ],
 "metadata": {
  "kernelspec": {
   "display_name": "Python 3 (ipykernel)",
   "language": "python",
   "name": "python3"
  },
  "language_info": {
   "codemirror_mode": {
    "name": "ipython",
    "version": 3
   },
   "file_extension": ".py",
   "mimetype": "text/x-python",
   "name": "python",
   "nbconvert_exporter": "python",
   "pygments_lexer": "ipython3",
   "version": "3.13.5"
  }
 },
 "nbformat": 4,
 "nbformat_minor": 5
}
