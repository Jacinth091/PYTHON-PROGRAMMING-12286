{
 "cells": [
  {
   "cell_type": "markdown",
   "id": "a6f76c21-5caf-4dcf-b9f9-32fed2c535f4",
   "metadata": {},
   "source": [
    "# Review Question 1\n",
    "___"
   ]
  },
  {
   "cell_type": "code",
   "execution_count": 6,
   "id": "47f3ae4e-de1d-4dbf-9f59-34d5addd091f",
   "metadata": {},
   "outputs": [
    {
     "name": "stdout",
     "output_type": "stream",
     "text": [
      "Num 1:  25000000\n",
      "Num 2:  (25, 0, 0)\n"
     ]
    }
   ],
   "source": [
    "num1 = 25_000_000\n",
    "num2 = 25,000,000\n",
    "\n",
    "print(\"Num 1: \", num1)\n",
    "print(\"Num 2: \", num2)\n"
   ]
  },
  {
   "cell_type": "code",
   "execution_count": 41,
   "id": "0c178ec2-4568-4166-b658-ee8308d4b83a",
   "metadata": {},
   "outputs": [
    {
     "name": "stdout",
     "output_type": "stream",
     "text": [
      "175000.0\n",
      "175000.0\n"
     ]
    }
   ],
   "source": [
    "x = 1.75 * 10 ** 5\n",
    "print(x)\n",
    "print(1.75e5)"
   ]
  },
  {
   "cell_type": "code",
   "execution_count": 23,
   "id": "4d591d56-74e0-4d1c-81c0-a1b5fced253f",
   "metadata": {},
   "outputs": [
    {
     "name": "stdout",
     "output_type": "stream",
     "text": [
      "inf\n"
     ]
    }
   ],
   "source": [
    "print(2e308)"
   ]
  },
  {
   "cell_type": "markdown",
   "id": "4f42cc4f-ce57-4d60-8a4c-efda71af6f5f",
   "metadata": {},
   "source": [
    "# Review Question 2\n",
    "___"
   ]
  },
  {
   "cell_type": "code",
   "execution_count": 37,
   "id": "be3a4c13-d993-45e9-b883-5d617614dbf9",
   "metadata": {},
   "outputs": [
    {
     "name": "stdin",
     "output_type": "stream",
     "text": [
      "Enter a base:  1.2\n",
      "Enter an exponent:  3\n"
     ]
    },
    {
     "name": "stdout",
     "output_type": "stream",
     "text": [
      "1.2 to the power of 3 = 1.7279999999999998\n"
     ]
    }
   ],
   "source": [
    "prompt = \"Enter a base: \"\n",
    "num1 = input(prompt)\n",
    "prompt = \"Enter an exponent: \"\n",
    "num2 = input(prompt)\n",
    "\n",
    "print(num1, \"to the power of\" , num2 ,\"=\",  float(num1) ** float(num2))\n"
   ]
  },
  {
   "cell_type": "markdown",
   "id": "663a98ad-65e5-47c3-a640-ae35d403cabd",
   "metadata": {},
   "source": [
    "# Review Question 3\n",
    "___"
   ]
  },
  {
   "cell_type": "code",
   "execution_count": 9,
   "id": "d83c7175-fe31-4b62-a087-03fe00b035cf",
   "metadata": {},
   "outputs": [
    {
     "name": "stdin",
     "output_type": "stream",
     "text": [
      "Enter a decimal number:  5.432\n"
     ]
    },
    {
     "name": "stdout",
     "output_type": "stream",
     "text": [
      "5.432 rounded to 2 decimal places is 5.43\n"
     ]
    }
   ],
   "source": [
    "prompt = \"Enter a decimal number: \"\n",
    "num = input(prompt);\n",
    "print(num, \"rounded to 2 decimal places is\", round(float(num), 2)) "
   ]
  },
  {
   "cell_type": "code",
   "execution_count": 10,
   "id": "805a9aa9-5aa5-4fc9-9aac-6cf9e28bb527",
   "metadata": {},
   "outputs": [
    {
     "name": "stdin",
     "output_type": "stream",
     "text": [
      "Enter a number: -100\n"
     ]
    },
    {
     "name": "stdout",
     "output_type": "stream",
     "text": [
      "The absolute value of -100 is 100\n"
     ]
    }
   ],
   "source": [
    "prompt = \"Enter a number:\"\n",
    "num = input(prompt)\n",
    "print(\"The absolute value of\", num, \"is\", abs(int(num)))"
   ]
  },
  {
   "cell_type": "markdown",
   "id": "00958a40-20b6-488d-90ce-50c31be09958",
   "metadata": {},
   "source": [
    "# Review Question 4\n",
    "___"
   ]
  },
  {
   "cell_type": "code",
   "execution_count": 39,
   "id": "ca3a4862-502b-4314-a465-9fab3701541d",
   "metadata": {
    "scrolled": true
   },
   "outputs": [
    {
     "name": "stdin",
     "output_type": "stream",
     "text": [
      "Enter a number: 1.5\n",
      "Enter another number: .5\n"
     ]
    },
    {
     "name": "stdout",
     "output_type": "stream",
     "text": [
      "The difference between 1.5 and .5 is an integer? True !\n"
     ]
    }
   ],
   "source": [
    "prompt = \"Enter a number:\"\n",
    "num1 = input(prompt)\n",
    "prompt = \"Enter another number:\"\n",
    "num2=  input(prompt)\n",
    "res =float(num1) - float(num2)\n",
    "print(\"The difference between\", num1, \"and\", num2, \"is an integer?\", res.is_integer(),\"!\")"
   ]
  },
  {
   "cell_type": "code",
   "execution_count": 24,
   "id": "9caf70ba-8e26-4239-aba0-8c50bc93723a",
   "metadata": {},
   "outputs": [
    {
     "name": "stdin",
     "output_type": "stream",
     "text": [
      "Enter a number: 1.5\n",
      "Enter another number: 1.0\n"
     ]
    },
    {
     "name": "stdout",
     "output_type": "stream",
     "text": [
      "The difference between 1.5 and 1.0 is an integer? False !\n"
     ]
    }
   ],
   "source": [
    "prompt = \"Enter a number:\"\n",
    "num1 = input(prompt)\n",
    "prompt = \"Enter another number:\"\n",
    "num2=  input(prompt)\n",
    "res =float(num1) - float(num2)\n",
    "print(\"The difference between\", num1, \"and\", num2, \"is an integer?\", res.is_integer(),\"!\")"
   ]
  },
  {
   "cell_type": "markdown",
   "id": "2637904b-e0ee-4c28-828b-6a67b5cc27d2",
   "metadata": {},
   "source": [
    "# Review Question 5\n",
    "___"
   ]
  },
  {
   "cell_type": "code",
   "execution_count": 42,
   "id": "1bc1c3f4-f276-434d-a068-f68b903d9ebe",
   "metadata": {},
   "outputs": [
    {
     "name": "stdout",
     "output_type": "stream",
     "text": [
      "Rounded number: 1.147\n"
     ]
    }
   ],
   "source": [
    "res = 3 ** .125\n",
    "print(f\"Rounded number: {res:.3f}\")"
   ]
  },
  {
   "cell_type": "code",
   "execution_count": 40,
   "id": "24463255-efea-4188-8ade-40d2e042ae01",
   "metadata": {},
   "outputs": [
    {
     "name": "stdout",
     "output_type": "stream",
     "text": [
      "Amount: $150,000.00\n"
     ]
    }
   ],
   "source": [
    "amnt = 150000\n",
    "print(f\"Amount: ${amnt:,.2f}\")"
   ]
  },
  {
   "cell_type": "code",
   "execution_count": 38,
   "id": "09af23dd-05a2-4055-be2a-8542de6212d1",
   "metadata": {},
   "outputs": [
    {
     "name": "stdout",
     "output_type": "stream",
     "text": [
      "Percentage: 20%\n"
     ]
    }
   ],
   "source": [
    "ratio = 2 / 10\n",
    "print(f\"Percentage: {ratio:.0%}\")"
   ]
  },
  {
   "cell_type": "code",
   "execution_count": null,
   "id": "779dfee6-1c20-404d-9ffc-d9202b3c1bb0",
   "metadata": {},
   "outputs": [],
   "source": []
  }
 ],
 "metadata": {
  "kernelspec": {
   "display_name": "Python 3 (ipykernel)",
   "language": "python",
   "name": "python3"
  },
  "language_info": {
   "codemirror_mode": {
    "name": "ipython",
    "version": 3
   },
   "file_extension": ".py",
   "mimetype": "text/x-python",
   "name": "python",
   "nbconvert_exporter": "python",
   "pygments_lexer": "ipython3",
   "version": "3.13.5"
  }
 },
 "nbformat": 4,
 "nbformat_minor": 5
}
