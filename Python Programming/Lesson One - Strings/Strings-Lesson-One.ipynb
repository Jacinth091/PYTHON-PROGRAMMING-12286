{
 "cells": [
  {
   "cell_type": "markdown",
   "id": "7209ca19-4635-4369-9246-25e24251036d",
   "metadata": {},
   "source": [
    "# Review Question 1 \n",
    "__"
   ]
  },
  {
   "cell_type": "code",
   "execution_count": 3,
   "id": "1c3d9038-4b9b-4249-9a63-015e7067fe90",
   "metadata": {},
   "outputs": [
    {
     "name": "stdout",
     "output_type": "stream",
     "text": [
      "Length of the string:  18\n"
     ]
    }
   ],
   "source": [
    "word = \"Pyhton Programming\"\n",
    "print(\"Length of the string: \", len(word))"
   ]
  },
  {
   "cell_type": "code",
   "execution_count": 13,
   "id": "54130de3-045c-4c76-8ec6-67238af2072c",
   "metadata": {},
   "outputs": [
    {
     "name": "stdout",
     "output_type": "stream",
     "text": [
      "Concatenated String:  PythonProgramming\n"
     ]
    }
   ],
   "source": [
    "wordOne = \"Python\"\n",
    "wordTwo = \"Programming\"\n",
    "print(\"Concatenated String: \", wordOne + wordTwo)"
   ]
  },
  {
   "cell_type": "code",
   "execution_count": 8,
   "id": "34f1b8f6-f417-44ab-b253-2d084137580f",
   "metadata": {},
   "outputs": [
    {
     "name": "stdout",
     "output_type": "stream",
     "text": [
      "Concatenated String w/ Space:  Python Programming\n"
     ]
    }
   ],
   "source": [
    "wordOne = \"Python\"\n",
    "wordTwo = \"Programming\"\n",
    "\n",
    "print(\"Concatenated String w/ Space: \", wordOne + \" \" + wordTwo)"
   ]
  },
  {
   "cell_type": "code",
   "execution_count": 12,
   "id": "002c8379-0e98-4a8c-be1f-8c042245b3dc",
   "metadata": {},
   "outputs": [
    {
     "name": "stdout",
     "output_type": "stream",
     "text": [
      "Spliced Word: fox\n"
     ]
    }
   ],
   "source": [
    "word = \"The quick brown fox jumped over the lazy dog. #123456789!\"\n",
    "\n",
    "splicedWord = word[16:19]\n",
    "\n",
    "print(\"Spliced Word:\", splicedWord)"
   ]
  },
  {
   "cell_type": "markdown",
   "id": "526c6a16-5862-465a-a657-07af74ee3c3a",
   "metadata": {},
   "source": [
    "# Review Question 2\n",
    "__"
   ]
  },
  {
   "cell_type": "code",
   "execution_count": 22,
   "id": "1c4fcb6d-63ce-4fe8-8196-c7fbb9b1b2c3",
   "metadata": {},
   "outputs": [
    {
     "name": "stdout",
     "output_type": "stream",
     "text": [
      "animals\n",
      "badger\n",
      "honey bee\n",
      "honeybadger\n"
     ]
    }
   ],
   "source": [
    "wordOne = \"Animals\"\n",
    "wordTwo = \"Badger\"\n",
    "wordThree = \"Honey Bee\"\n",
    "wordFour = \"HoneyBadger\"\n",
    "\n",
    "print(wordOne.lower())\n",
    "print(wordTwo.lower())\n",
    "print(wordThree.lower())\n",
    "print(wordFour.lower())"
   ]
  },
  {
   "cell_type": "code",
   "execution_count": 23,
   "id": "dce8c3e5-884e-4463-802f-cd10de588aeb",
   "metadata": {},
   "outputs": [
    {
     "name": "stdout",
     "output_type": "stream",
     "text": [
      "ANIMALS\n",
      "BADGER\n",
      "HONEY BEE\n",
      "HONEYBADGER\n"
     ]
    }
   ],
   "source": [
    "print(wordOne.upper())\n",
    "print(wordTwo.upper())\n",
    "print(wordThree.upper())\n",
    "print(wordFour.upper())"
   ]
  },
  {
   "cell_type": "code",
   "execution_count": 26,
   "id": "e6853346-3ad2-4fb7-bd6e-d8e86026ca99",
   "metadata": {},
   "outputs": [
    {
     "name": "stdout",
     "output_type": "stream",
     "text": [
      "Filet Mignon\n",
      "Brisket\n"
     ]
    }
   ],
   "source": [
    "string1 = \" Filet Mignon\"\n",
    "string2 = \"Brisket  \"\n",
    "print(string1.lstrip())\n",
    "print(string2.rstrip())"
   ]
  },
  {
   "cell_type": "code",
   "execution_count": 28,
   "id": "84f9fcbb-8327-48bf-84f4-1181b0f7aacb",
   "metadata": {},
   "outputs": [
    {
     "name": "stdout",
     "output_type": "stream",
     "text": [
      "False\n",
      "True\n"
     ]
    }
   ],
   "source": [
    "string1 = \"Becomes\"\n",
    "string2 = \"becomes\"\n",
    "print(string1.startswith(\"be\"))\n",
    "print(string2.startswith(\"be\"))"
   ]
  },
  {
   "cell_type": "code",
   "execution_count": 30,
   "id": "c503bf36-660a-4994-90dd-66bcb778048e",
   "metadata": {},
   "outputs": [
    {
     "name": "stdout",
     "output_type": "stream",
     "text": [
      "True\n",
      "True\n"
     ]
    }
   ],
   "source": [
    "string1 = \"Becomes\"\n",
    "string2 = \"becomes\"\n",
    "string1 = \"be\" + string1[1:]\n",
    "print(string1.startswith(\"be\"))\n",
    "print(string2.startswith(\"be\"))"
   ]
  },
  {
   "cell_type": "markdown",
   "id": "324ab733-7f5a-4e78-af90-1357aad8518c",
   "metadata": {},
   "source": [
    "# Review Question 3\n",
    "\n",
    "__"
   ]
  },
  {
   "cell_type": "code",
   "execution_count": 31,
   "id": "febf053c-d3a1-4e61-90ef-5e2ecee06b47",
   "metadata": {},
   "outputs": [
    {
     "name": "stdin",
     "output_type": "stream",
     "text": [
      "Hi, what's up? I'm fine, Thank You\n"
     ]
    },
    {
     "name": "stdout",
     "output_type": "stream",
     "text": [
      "Your Input:  I'm fine, Thank You\n"
     ]
    }
   ],
   "source": [
    "prompt = \"Hi, what's up?\"\n",
    "user_input = input(prompt)\n",
    "print(\"Your Input: \", user_input);"
   ]
  },
  {
   "cell_type": "code",
   "execution_count": 32,
   "id": "769beeb9-114e-499e-a3e9-9848eae86c30",
   "metadata": {},
   "outputs": [
    {
     "name": "stdin",
     "output_type": "stream",
     "text": [
      "Hi, what's up? I'm fine, thank you!\n"
     ]
    },
    {
     "name": "stdout",
     "output_type": "stream",
     "text": [
      "Your Input:  i'm fine, thank you!\n"
     ]
    }
   ],
   "source": [
    "prompt = \"Hi, what's up?\"\n",
    "user_input = input(prompt)\n",
    "print(\"Your Input: \", user_input.lower());"
   ]
  },
  {
   "cell_type": "code",
   "execution_count": 34,
   "id": "f12dd1dc-3548-41df-b0f7-ce8c9582dd64",
   "metadata": {},
   "outputs": [
    {
     "name": "stdin",
     "output_type": "stream",
     "text": [
      "Hi, what's up? I'm fine, thank you!!!!\n"
     ]
    },
    {
     "name": "stdout",
     "output_type": "stream",
     "text": [
      "Your Input:  I'm fine, thank you!!!!\n",
      "Length of the reply:  23\n"
     ]
    }
   ],
   "source": [
    "prompt = \"Hi, what's up?\"\n",
    "user_input = input(prompt)\n",
    "print(\"Your Input: \", user_input);\n",
    "print(\"Length of the reply: \", len(user_input));"
   ]
  },
  {
   "cell_type": "markdown",
   "id": "fb632977-12ca-4e8e-a25b-2694c1514b2d",
   "metadata": {},
   "source": [
    "# Review Question 4\n",
    "\n",
    "__"
   ]
  },
  {
   "cell_type": "code",
   "execution_count": 40,
   "id": "90d5e702-6b17-42d7-bc6c-901174b18ae9",
   "metadata": {},
   "outputs": [
    {
     "name": "stdin",
     "output_type": "stream",
     "text": [
      "What's your name? cedric\n"
     ]
    },
    {
     "name": "stdout",
     "output_type": "stream",
     "text": [
      "Your name is: Cedric\n"
     ]
    }
   ],
   "source": [
    "prompt = \"What's your name?\"\n",
    "user = input(prompt)\n",
    "user = user[0].upper() + user[1:]\n",
    "print(\"Your name is:\", user)\n",
    "\n"
   ]
  },
  {
   "cell_type": "markdown",
   "id": "93eb51c3-db31-4e9d-b08c-97b24b637806",
   "metadata": {},
   "source": [
    "# Review Question 5\n",
    "__"
   ]
  },
  {
   "cell_type": "code",
   "execution_count": 42,
   "id": "de822772-1ab8-4de5-9718-85dd095cbf8b",
   "metadata": {},
   "outputs": [
    {
     "name": "stdout",
     "output_type": "stream",
     "text": [
      "Result:  400\n"
     ]
    }
   ],
   "source": [
    "string = '20'\n",
    "num = int(string)\n",
    "print(\"Result: \", num * 20)"
   ]
  },
  {
   "cell_type": "code",
   "execution_count": 44,
   "id": "ebe17839-8f7b-4880-9986-51737d7767dc",
   "metadata": {},
   "outputs": [
    {
     "name": "stdout",
     "output_type": "stream",
     "text": [
      "Result:  60.0\n"
     ]
    }
   ],
   "source": [
    "num = float(string);\n",
    "print(\"Result: \", num *3)"
   ]
  },
  {
   "cell_type": "code",
   "execution_count": 47,
   "id": "5d64d41b-2601-4622-aeab-ca1e07a81b52",
   "metadata": {},
   "outputs": [
    {
     "name": "stdout",
     "output_type": "stream",
     "text": [
      "Values:\n",
      "String: 100 Number: 100\n"
     ]
    }
   ],
   "source": [
    "string = '100'\n",
    "num = 100\n",
    "print(\"Values:\\nString: \"+ str(string) + \" Number: \" + str(num))"
   ]
  },
  {
   "cell_type": "code",
   "execution_count": 49,
   "id": "6352a07c-47d7-4b12-9f11-8f57639f64c2",
   "metadata": {},
   "outputs": [
    {
     "name": "stdin",
     "output_type": "stream",
     "text": [
      "Enter a number:  20\n",
      "Enter a number:  3\n"
     ]
    },
    {
     "name": "stdout",
     "output_type": "stream",
     "text": [
      "Result is:  60\n"
     ]
    }
   ],
   "source": [
    "prompt = \"Enter a number: \"\n",
    "num1 = input(prompt)\n",
    "num2 = input(prompt)\n",
    "\n",
    "print(\"Result is: \", int(num1) * int(num2));"
   ]
  },
  {
   "cell_type": "markdown",
   "id": "9cb4aa76-9789-46dd-8e4b-f4cffc5f2f56",
   "metadata": {},
   "source": [
    "# Review Question 6\n",
    "__"
   ]
  },
  {
   "cell_type": "code",
   "execution_count": 50,
   "id": "3a701365-85ed-4b26-902a-f99b98b06ff4",
   "metadata": {},
   "outputs": [
    {
     "name": "stdout",
     "output_type": "stream",
     "text": [
      "Result:  -1\n"
     ]
    }
   ],
   "source": [
    "string ='AAA'\n",
    "print('Result: ', string.find('a'))"
   ]
  },
  {
   "cell_type": "code",
   "execution_count": 69,
   "id": "0c377e26-a5e4-49b8-9d5b-0b2ec1cdf826",
   "metadata": {},
   "outputs": [
    {
     "name": "stdout",
     "output_type": "stream",
     "text": [
      "New phrase:  yomebody yaid yomething to yamantha\n"
     ]
    }
   ],
   "source": [
    "phrase= \"Somebody said something to Samantha\"\n",
    "newStr = phrase.lower().replace(\"s\", \"y\");\n",
    "print(\"New phrase: \", newStr)"
   ]
  },
  {
   "cell_type": "code",
   "execution_count": 73,
   "id": "796b5800-24c4-4452-bcfc-4fba19978bb4",
   "metadata": {},
   "outputs": [
    {
     "name": "stdin",
     "output_type": "stream",
     "text": [
      "What is the full abbreviation of UC?:  University of Cebu\n",
      "Input a letter/phrase to find in the input:  Cebu\n"
     ]
    },
    {
     "name": "stdout",
     "output_type": "stream",
     "text": [
      "Result:  14\n"
     ]
    }
   ],
   "source": [
    "prompt = \"What is the full abbreviation of UC?: \"\n",
    "inp = input(prompt);\n",
    "promptTwo =\"Input a letter/phrase to find in the input: \"\n",
    "find_inp = input(promptTwo)\n",
    "\n",
    "print(\"Result: \", str(inp).find(str(find_inp)));\n",
    "\n"
   ]
  },
  {
   "cell_type": "code",
   "execution_count": null,
   "id": "ba5869ff-0830-4d7b-b165-69c43f7c6dc4",
   "metadata": {},
   "outputs": [],
   "source": []
  },
  {
   "cell_type": "markdown",
   "id": "5741b930-7677-4fad-972c-a01853f27b73",
   "metadata": {},
   "source": [
    "# Review Question 7\n",
    "__"
   ]
  },
  {
   "cell_type": "code",
   "execution_count": 79,
   "id": "b25457ed-5339-4bb2-89b6-e243f8450119",
   "metadata": {},
   "outputs": [
    {
     "name": "stdin",
     "output_type": "stream",
     "text": [
      "Enter some text:  I like to eat eggs and spam\n"
     ]
    },
    {
     "name": "stdout",
     "output_type": "stream",
     "text": [
      "Your text:  I 1ik3 70 347 3gg5 4nd 5p4m\n"
     ]
    }
   ],
   "source": [
    "prompt = \"Enter some text: \"\n",
    "inp = input(prompt)\n",
    "newText = inp.replace('a', '4').replace('b', '8').replace('e', '3').replace('l', '1').replace('o', '0').replace('s', '5').replace('t', '7')\n",
    "print(\"Your text: \", newText)"
   ]
  }
 ],
 "metadata": {
  "kernelspec": {
   "display_name": "Python 3 (ipykernel)",
   "language": "python",
   "name": "python3"
  },
  "language_info": {
   "codemirror_mode": {
    "name": "ipython",
    "version": 3
   },
   "file_extension": ".py",
   "mimetype": "text/x-python",
   "name": "python",
   "nbconvert_exporter": "python",
   "pygments_lexer": "ipython3",
   "version": "3.13.5"
  }
 },
 "nbformat": 4,
 "nbformat_minor": 5
}
